{
  "nbformat": 4,
  "nbformat_minor": 0,
  "metadata": {
    "colab": {
      "provenance": [],
      "name": "Starter_bankV2.ipynb",
      "toc_visible": true,
      "include_colab_link": true
    },
    "kernelspec": {
      "name": "python3",
      "display_name": "Python 3"
    }
  },
  "cells": [
    {
      "cell_type": "markdown",
      "metadata": {
        "id": "view-in-github",
        "colab_type": "text"
      },
      "source": [
        "<a href=\"https://colab.research.google.com/github/josegabrielguerrero26/CSE450-machinelearning/blob/main/final/trustlevel.ipynb\" target=\"_parent\"><img src=\"https://colab.research.google.com/assets/colab-badge.svg\" alt=\"Open In Colab\"/></a>"
      ]
    },
    {
      "cell_type": "markdown",
      "source": [
        "### ** INTRODUCTION**\n",
        "This is a db with categorical and descriptive data of customers in a U.S business unit.\n",
        "\n",
        "The business is dedicated to rent cars to customers and the objectives of this machine learning model is to categorize if the customers has a high, medium or low trust level.\n",
        "\n",
        "High level indicates that I should rent.\n",
        "\n",
        "Medium possible danger and so it needs to go over second operational revision process.\n",
        "\n",
        "Low must not rent the car.\n",
        "\n",
        "** The numbers, names have been changed to protect the data **"
      ],
      "metadata": {
        "id": "92YNiUP0EaKp"
      }
    },
    {
      "cell_type": "markdown",
      "source": [
        "## Libraries- Dataset"
      ],
      "metadata": {
        "id": "35v-ds6sENUR"
      }
    },
    {
      "cell_type": "code",
      "metadata": {
        "id": "mA0HPVmIBT4C"
      },
      "source": [
        "#!pip install ydata_profiling # data Table Analysis\n",
        "#!pip install typing_extensions # data Table Analysis\n",
        "#!pip install imblearn\n",
        "import pandas as pd\n",
        "import seaborn as sns\n",
        "import matplotlib.pyplot as plt # for graphs\n",
        "from sklearn.model_selection import train_test_split #Model Split to train\n",
        "from sklearn.metrics import accuracy_score           #Accuracy model\n",
        "from sklearn.preprocessing import StandardScaler\n"
      ],
      "execution_count": 1,
      "outputs": []
    },
    {
      "cell_type": "code",
      "source": [
        "cus = pd.read_csv('/content/cust_test.csv')"
      ],
      "metadata": {
        "id": "vfTeIN92ej64"
      },
      "execution_count": 2,
      "outputs": []
    },
    {
      "cell_type": "code",
      "source": [
        "cus.head(5)\n"
      ],
      "metadata": {
        "id": "zm-nDxMnL8VR",
        "outputId": "9252637b-4fc3-4280-e7b0-a1c9bfd36514",
        "colab": {
          "base_uri": "https://localhost:8080/",
          "height": 206
        }
      },
      "execution_count": 3,
      "outputs": [
        {
          "output_type": "execute_result",
          "data": {
            "text/plain": [
              "   cust_id   month_birth   dob  year_birth  Unnamed: 4 country  times  \\\n",
              "0        1              3   14        1994         NaN    UTAH      4   \n",
              "1        2              5    6        1970         NaN  MEXICO      1   \n",
              "2        3              5   17        1973         NaN    UTAH      1   \n",
              "3        4              5    9        1976         NaN  MEXICO      5   \n",
              "4        5              4   29        1989         NaN  MEXICO      1   \n",
              "\n",
              "  cash_vs_card pay_level  marital    level_edu  salary  \n",
              "0         cash       LOW  married   elementary  211637  \n",
              "1         cash      HIGH   single   elementary  129657  \n",
              "2         cash       LOW  married  high_school  160686  \n",
              "3         cash      HIGH  married      college   86044  \n",
              "4         card      HIGH  married  high_school  192280  "
            ],
            "text/html": [
              "\n",
              "  <div id=\"df-52a902b2-e3d7-469b-8eca-7a6c41c1955a\" class=\"colab-df-container\">\n",
              "    <div>\n",
              "<style scoped>\n",
              "    .dataframe tbody tr th:only-of-type {\n",
              "        vertical-align: middle;\n",
              "    }\n",
              "\n",
              "    .dataframe tbody tr th {\n",
              "        vertical-align: top;\n",
              "    }\n",
              "\n",
              "    .dataframe thead th {\n",
              "        text-align: right;\n",
              "    }\n",
              "</style>\n",
              "<table border=\"1\" class=\"dataframe\">\n",
              "  <thead>\n",
              "    <tr style=\"text-align: right;\">\n",
              "      <th></th>\n",
              "      <th>cust_id</th>\n",
              "      <th>month_birth</th>\n",
              "      <th>dob</th>\n",
              "      <th>year_birth</th>\n",
              "      <th>Unnamed: 4</th>\n",
              "      <th>country</th>\n",
              "      <th>times</th>\n",
              "      <th>cash_vs_card</th>\n",
              "      <th>pay_level</th>\n",
              "      <th>marital</th>\n",
              "      <th>level_edu</th>\n",
              "      <th>salary</th>\n",
              "    </tr>\n",
              "  </thead>\n",
              "  <tbody>\n",
              "    <tr>\n",
              "      <th>0</th>\n",
              "      <td>1</td>\n",
              "      <td>3</td>\n",
              "      <td>14</td>\n",
              "      <td>1994</td>\n",
              "      <td>NaN</td>\n",
              "      <td>UTAH</td>\n",
              "      <td>4</td>\n",
              "      <td>cash</td>\n",
              "      <td>LOW</td>\n",
              "      <td>married</td>\n",
              "      <td>elementary</td>\n",
              "      <td>211637</td>\n",
              "    </tr>\n",
              "    <tr>\n",
              "      <th>1</th>\n",
              "      <td>2</td>\n",
              "      <td>5</td>\n",
              "      <td>6</td>\n",
              "      <td>1970</td>\n",
              "      <td>NaN</td>\n",
              "      <td>MEXICO</td>\n",
              "      <td>1</td>\n",
              "      <td>cash</td>\n",
              "      <td>HIGH</td>\n",
              "      <td>single</td>\n",
              "      <td>elementary</td>\n",
              "      <td>129657</td>\n",
              "    </tr>\n",
              "    <tr>\n",
              "      <th>2</th>\n",
              "      <td>3</td>\n",
              "      <td>5</td>\n",
              "      <td>17</td>\n",
              "      <td>1973</td>\n",
              "      <td>NaN</td>\n",
              "      <td>UTAH</td>\n",
              "      <td>1</td>\n",
              "      <td>cash</td>\n",
              "      <td>LOW</td>\n",
              "      <td>married</td>\n",
              "      <td>high_school</td>\n",
              "      <td>160686</td>\n",
              "    </tr>\n",
              "    <tr>\n",
              "      <th>3</th>\n",
              "      <td>4</td>\n",
              "      <td>5</td>\n",
              "      <td>9</td>\n",
              "      <td>1976</td>\n",
              "      <td>NaN</td>\n",
              "      <td>MEXICO</td>\n",
              "      <td>5</td>\n",
              "      <td>cash</td>\n",
              "      <td>HIGH</td>\n",
              "      <td>married</td>\n",
              "      <td>college</td>\n",
              "      <td>86044</td>\n",
              "    </tr>\n",
              "    <tr>\n",
              "      <th>4</th>\n",
              "      <td>5</td>\n",
              "      <td>4</td>\n",
              "      <td>29</td>\n",
              "      <td>1989</td>\n",
              "      <td>NaN</td>\n",
              "      <td>MEXICO</td>\n",
              "      <td>1</td>\n",
              "      <td>card</td>\n",
              "      <td>HIGH</td>\n",
              "      <td>married</td>\n",
              "      <td>high_school</td>\n",
              "      <td>192280</td>\n",
              "    </tr>\n",
              "  </tbody>\n",
              "</table>\n",
              "</div>\n",
              "    <div class=\"colab-df-buttons\">\n",
              "\n",
              "  <div class=\"colab-df-container\">\n",
              "    <button class=\"colab-df-convert\" onclick=\"convertToInteractive('df-52a902b2-e3d7-469b-8eca-7a6c41c1955a')\"\n",
              "            title=\"Convert this dataframe to an interactive table.\"\n",
              "            style=\"display:none;\">\n",
              "\n",
              "  <svg xmlns=\"http://www.w3.org/2000/svg\" height=\"24px\" viewBox=\"0 -960 960 960\">\n",
              "    <path d=\"M120-120v-720h720v720H120Zm60-500h600v-160H180v160Zm220 220h160v-160H400v160Zm0 220h160v-160H400v160ZM180-400h160v-160H180v160Zm440 0h160v-160H620v160ZM180-180h160v-160H180v160Zm440 0h160v-160H620v160Z\"/>\n",
              "  </svg>\n",
              "    </button>\n",
              "\n",
              "  <style>\n",
              "    .colab-df-container {\n",
              "      display:flex;\n",
              "      gap: 12px;\n",
              "    }\n",
              "\n",
              "    .colab-df-convert {\n",
              "      background-color: #E8F0FE;\n",
              "      border: none;\n",
              "      border-radius: 50%;\n",
              "      cursor: pointer;\n",
              "      display: none;\n",
              "      fill: #1967D2;\n",
              "      height: 32px;\n",
              "      padding: 0 0 0 0;\n",
              "      width: 32px;\n",
              "    }\n",
              "\n",
              "    .colab-df-convert:hover {\n",
              "      background-color: #E2EBFA;\n",
              "      box-shadow: 0px 1px 2px rgba(60, 64, 67, 0.3), 0px 1px 3px 1px rgba(60, 64, 67, 0.15);\n",
              "      fill: #174EA6;\n",
              "    }\n",
              "\n",
              "    .colab-df-buttons div {\n",
              "      margin-bottom: 4px;\n",
              "    }\n",
              "\n",
              "    [theme=dark] .colab-df-convert {\n",
              "      background-color: #3B4455;\n",
              "      fill: #D2E3FC;\n",
              "    }\n",
              "\n",
              "    [theme=dark] .colab-df-convert:hover {\n",
              "      background-color: #434B5C;\n",
              "      box-shadow: 0px 1px 3px 1px rgba(0, 0, 0, 0.15);\n",
              "      filter: drop-shadow(0px 1px 2px rgba(0, 0, 0, 0.3));\n",
              "      fill: #FFFFFF;\n",
              "    }\n",
              "  </style>\n",
              "\n",
              "    <script>\n",
              "      const buttonEl =\n",
              "        document.querySelector('#df-52a902b2-e3d7-469b-8eca-7a6c41c1955a button.colab-df-convert');\n",
              "      buttonEl.style.display =\n",
              "        google.colab.kernel.accessAllowed ? 'block' : 'none';\n",
              "\n",
              "      async function convertToInteractive(key) {\n",
              "        const element = document.querySelector('#df-52a902b2-e3d7-469b-8eca-7a6c41c1955a');\n",
              "        const dataTable =\n",
              "          await google.colab.kernel.invokeFunction('convertToInteractive',\n",
              "                                                    [key], {});\n",
              "        if (!dataTable) return;\n",
              "\n",
              "        const docLinkHtml = 'Like what you see? Visit the ' +\n",
              "          '<a target=\"_blank\" href=https://colab.research.google.com/notebooks/data_table.ipynb>data table notebook</a>'\n",
              "          + ' to learn more about interactive tables.';\n",
              "        element.innerHTML = '';\n",
              "        dataTable['output_type'] = 'display_data';\n",
              "        await google.colab.output.renderOutput(dataTable, element);\n",
              "        const docLink = document.createElement('div');\n",
              "        docLink.innerHTML = docLinkHtml;\n",
              "        element.appendChild(docLink);\n",
              "      }\n",
              "    </script>\n",
              "  </div>\n",
              "\n",
              "\n",
              "<div id=\"df-a26824f0-e24b-42e1-a928-4b9462df4973\">\n",
              "  <button class=\"colab-df-quickchart\" onclick=\"quickchart('df-a26824f0-e24b-42e1-a928-4b9462df4973')\"\n",
              "            title=\"Suggest charts\"\n",
              "            style=\"display:none;\">\n",
              "\n",
              "<svg xmlns=\"http://www.w3.org/2000/svg\" height=\"24px\"viewBox=\"0 0 24 24\"\n",
              "     width=\"24px\">\n",
              "    <g>\n",
              "        <path d=\"M19 3H5c-1.1 0-2 .9-2 2v14c0 1.1.9 2 2 2h14c1.1 0 2-.9 2-2V5c0-1.1-.9-2-2-2zM9 17H7v-7h2v7zm4 0h-2V7h2v10zm4 0h-2v-4h2v4z\"/>\n",
              "    </g>\n",
              "</svg>\n",
              "  </button>\n",
              "\n",
              "<style>\n",
              "  .colab-df-quickchart {\n",
              "      --bg-color: #E8F0FE;\n",
              "      --fill-color: #1967D2;\n",
              "      --hover-bg-color: #E2EBFA;\n",
              "      --hover-fill-color: #174EA6;\n",
              "      --disabled-fill-color: #AAA;\n",
              "      --disabled-bg-color: #DDD;\n",
              "  }\n",
              "\n",
              "  [theme=dark] .colab-df-quickchart {\n",
              "      --bg-color: #3B4455;\n",
              "      --fill-color: #D2E3FC;\n",
              "      --hover-bg-color: #434B5C;\n",
              "      --hover-fill-color: #FFFFFF;\n",
              "      --disabled-bg-color: #3B4455;\n",
              "      --disabled-fill-color: #666;\n",
              "  }\n",
              "\n",
              "  .colab-df-quickchart {\n",
              "    background-color: var(--bg-color);\n",
              "    border: none;\n",
              "    border-radius: 50%;\n",
              "    cursor: pointer;\n",
              "    display: none;\n",
              "    fill: var(--fill-color);\n",
              "    height: 32px;\n",
              "    padding: 0;\n",
              "    width: 32px;\n",
              "  }\n",
              "\n",
              "  .colab-df-quickchart:hover {\n",
              "    background-color: var(--hover-bg-color);\n",
              "    box-shadow: 0 1px 2px rgba(60, 64, 67, 0.3), 0 1px 3px 1px rgba(60, 64, 67, 0.15);\n",
              "    fill: var(--button-hover-fill-color);\n",
              "  }\n",
              "\n",
              "  .colab-df-quickchart-complete:disabled,\n",
              "  .colab-df-quickchart-complete:disabled:hover {\n",
              "    background-color: var(--disabled-bg-color);\n",
              "    fill: var(--disabled-fill-color);\n",
              "    box-shadow: none;\n",
              "  }\n",
              "\n",
              "  .colab-df-spinner {\n",
              "    border: 2px solid var(--fill-color);\n",
              "    border-color: transparent;\n",
              "    border-bottom-color: var(--fill-color);\n",
              "    animation:\n",
              "      spin 1s steps(1) infinite;\n",
              "  }\n",
              "\n",
              "  @keyframes spin {\n",
              "    0% {\n",
              "      border-color: transparent;\n",
              "      border-bottom-color: var(--fill-color);\n",
              "      border-left-color: var(--fill-color);\n",
              "    }\n",
              "    20% {\n",
              "      border-color: transparent;\n",
              "      border-left-color: var(--fill-color);\n",
              "      border-top-color: var(--fill-color);\n",
              "    }\n",
              "    30% {\n",
              "      border-color: transparent;\n",
              "      border-left-color: var(--fill-color);\n",
              "      border-top-color: var(--fill-color);\n",
              "      border-right-color: var(--fill-color);\n",
              "    }\n",
              "    40% {\n",
              "      border-color: transparent;\n",
              "      border-right-color: var(--fill-color);\n",
              "      border-top-color: var(--fill-color);\n",
              "    }\n",
              "    60% {\n",
              "      border-color: transparent;\n",
              "      border-right-color: var(--fill-color);\n",
              "    }\n",
              "    80% {\n",
              "      border-color: transparent;\n",
              "      border-right-color: var(--fill-color);\n",
              "      border-bottom-color: var(--fill-color);\n",
              "    }\n",
              "    90% {\n",
              "      border-color: transparent;\n",
              "      border-bottom-color: var(--fill-color);\n",
              "    }\n",
              "  }\n",
              "</style>\n",
              "\n",
              "  <script>\n",
              "    async function quickchart(key) {\n",
              "      const quickchartButtonEl =\n",
              "        document.querySelector('#' + key + ' button');\n",
              "      quickchartButtonEl.disabled = true;  // To prevent multiple clicks.\n",
              "      quickchartButtonEl.classList.add('colab-df-spinner');\n",
              "      try {\n",
              "        const charts = await google.colab.kernel.invokeFunction(\n",
              "            'suggestCharts', [key], {});\n",
              "      } catch (error) {\n",
              "        console.error('Error during call to suggestCharts:', error);\n",
              "      }\n",
              "      quickchartButtonEl.classList.remove('colab-df-spinner');\n",
              "      quickchartButtonEl.classList.add('colab-df-quickchart-complete');\n",
              "    }\n",
              "    (() => {\n",
              "      let quickchartButtonEl =\n",
              "        document.querySelector('#df-a26824f0-e24b-42e1-a928-4b9462df4973 button');\n",
              "      quickchartButtonEl.style.display =\n",
              "        google.colab.kernel.accessAllowed ? 'block' : 'none';\n",
              "    })();\n",
              "  </script>\n",
              "</div>\n",
              "\n",
              "    </div>\n",
              "  </div>\n"
            ],
            "application/vnd.google.colaboratory.intrinsic+json": {
              "type": "dataframe",
              "variable_name": "cus",
              "summary": "{\n  \"name\": \"cus\",\n  \"rows\": 49512,\n  \"fields\": [\n    {\n      \"column\": \"cust_id\",\n      \"properties\": {\n        \"dtype\": \"number\",\n        \"std\": 14609,\n        \"min\": 1,\n        \"max\": 230289,\n        \"num_unique_values\": 49512,\n        \"samples\": [\n          24966,\n          27805,\n          40461\n        ],\n        \"semantic_type\": \"\",\n        \"description\": \"\"\n      }\n    },\n    {\n      \"column\": \" month_birth \",\n      \"properties\": {\n        \"dtype\": \"number\",\n        \"std\": 3,\n        \"min\": 1,\n        \"max\": 12,\n        \"num_unique_values\": 12,\n        \"samples\": [\n          6,\n          8,\n          3\n        ],\n        \"semantic_type\": \"\",\n        \"description\": \"\"\n      }\n    },\n    {\n      \"column\": \"dob\",\n      \"properties\": {\n        \"dtype\": \"number\",\n        \"std\": 8,\n        \"min\": 1,\n        \"max\": 31,\n        \"num_unique_values\": 31,\n        \"samples\": [\n          27,\n          22,\n          10\n        ],\n        \"semantic_type\": \"\",\n        \"description\": \"\"\n      }\n    },\n    {\n      \"column\": \"year_birth\",\n      \"properties\": {\n        \"dtype\": \"number\",\n        \"std\": 12,\n        \"min\": 1911,\n        \"max\": 2004,\n        \"num_unique_values\": 89,\n        \"samples\": [\n          1983,\n          1954,\n          1965\n        ],\n        \"semantic_type\": \"\",\n        \"description\": \"\"\n      }\n    },\n    {\n      \"column\": \"Unnamed: 4\",\n      \"properties\": {\n        \"dtype\": \"number\",\n        \"std\": null,\n        \"min\": null,\n        \"max\": null,\n        \"num_unique_values\": 0,\n        \"samples\": [],\n        \"semantic_type\": \"\",\n        \"description\": \"\"\n      }\n    },\n    {\n      \"column\": \"country\",\n      \"properties\": {\n        \"dtype\": \"category\",\n        \"num_unique_values\": 11,\n        \"samples\": [],\n        \"semantic_type\": \"\",\n        \"description\": \"\"\n      }\n    },\n    {\n      \"column\": \"times\",\n      \"properties\": {\n        \"dtype\": \"number\",\n        \"std\": 11,\n        \"min\": 1,\n        \"max\": 425,\n        \"num_unique_values\": 168,\n        \"samples\": [],\n        \"semantic_type\": \"\",\n        \"description\": \"\"\n      }\n    },\n    {\n      \"column\": \"cash_vs_card\",\n      \"properties\": {\n        \"dtype\": \"category\",\n        \"num_unique_values\": 3,\n        \"samples\": [],\n        \"semantic_type\": \"\",\n        \"description\": \"\"\n      }\n    },\n    {\n      \"column\": \"pay_level\",\n      \"properties\": {\n        \"dtype\": \"category\",\n        \"num_unique_values\": 3,\n        \"samples\": [],\n        \"semantic_type\": \"\",\n        \"description\": \"\"\n      }\n    },\n    {\n      \"column\": \"marital\",\n      \"properties\": {\n        \"dtype\": \"category\",\n        \"num_unique_values\": 2,\n        \"samples\": [],\n        \"semantic_type\": \"\",\n        \"description\": \"\"\n      }\n    },\n    {\n      \"column\": \"level_edu\",\n      \"properties\": {\n        \"dtype\": \"category\",\n        \"num_unique_values\": 4,\n        \"samples\": [],\n        \"semantic_type\": \"\",\n        \"description\": \"\"\n      }\n    },\n    {\n      \"column\": \"salary\",\n      \"properties\": {\n        \"dtype\": \"number\",\n        \"std\": 57519,\n        \"min\": 50000,\n        \"max\": 249996,\n        \"num_unique_values\": 43768,\n        \"samples\": [],\n        \"semantic_type\": \"\",\n        \"description\": \"\"\n      }\n    }\n  ]\n}"
            }
          },
          "metadata": {},
          "execution_count": 3
        }
      ]
    },
    {
      "cell_type": "markdown",
      "source": [
        "\n",
        "## Table Description"
      ],
      "metadata": {
        "id": "z10a8OHDFKWi"
      }
    },
    {
      "cell_type": "code",
      "metadata": {
        "id": "StiU5QcPPxqQ",
        "colab": {
          "base_uri": "https://localhost:8080/"
        },
        "outputId": "14eaeec5-8215-4d94-fdb7-f21f3bfd8e4d"
      },
      "source": [
        "cus.describe(include='all')\n",
        "cus.info()"
      ],
      "execution_count": 4,
      "outputs": [
        {
          "output_type": "stream",
          "name": "stdout",
          "text": [
            "<class 'pandas.core.frame.DataFrame'>\n",
            "RangeIndex: 49512 entries, 0 to 49511\n",
            "Data columns (total 12 columns):\n",
            " #   Column         Non-Null Count  Dtype  \n",
            "---  ------         --------------  -----  \n",
            " 0   cust_id        49512 non-null  int64  \n",
            " 1    month_birth   49512 non-null  int64  \n",
            " 2   dob            49512 non-null  int64  \n",
            " 3   year_birth     49512 non-null  int64  \n",
            " 4   Unnamed: 4     0 non-null      float64\n",
            " 5   country        49512 non-null  object \n",
            " 6   times          49512 non-null  int64  \n",
            " 7   cash_vs_card   49512 non-null  object \n",
            " 8   pay_level      49512 non-null  object \n",
            " 9   marital        49512 non-null  object \n",
            " 10  level_edu      49512 non-null  object \n",
            " 11  salary         49512 non-null  int64  \n",
            "dtypes: float64(1), int64(6), object(5)\n",
            "memory usage: 4.5+ MB\n"
          ]
        }
      ]
    },
    {
      "cell_type": "code",
      "metadata": {
        "id": "ALLMN63FPyEQ",
        "colab": {
          "base_uri": "https://localhost:8080/"
        },
        "outputId": "b6056430-b1c0-4c01-8a81-9f864f6182fa"
      },
      "source": [
        "cus.nunique()\n"
      ],
      "execution_count": 5,
      "outputs": [
        {
          "output_type": "execute_result",
          "data": {
            "text/plain": [
              "cust_id          49512\n",
              " month_birth        12\n",
              "dob                 31\n",
              "year_birth          89\n",
              "Unnamed: 4           0\n",
              "country             11\n",
              "times              168\n",
              "cash_vs_card         3\n",
              "pay_level            3\n",
              "marital              2\n",
              "level_edu            4\n",
              "salary           43768\n",
              "dtype: int64"
            ]
          },
          "metadata": {},
          "execution_count": 5
        }
      ]
    },
    {
      "cell_type": "code",
      "metadata": {
        "id": "RnGBwGVZPyyh",
        "colab": {
          "base_uri": "https://localhost:8080/"
        },
        "outputId": "db838613-9a47-4efc-d934-30b3f5e6fb8a"
      },
      "source": [
        "#nun values\n",
        "nan_count = cus.isnull().sum().sum()\n",
        "print('Number of NaN values:', nan_count)"
      ],
      "execution_count": 6,
      "outputs": [
        {
          "output_type": "stream",
          "name": "stdout",
          "text": [
            "Number of NaN values: 49512\n"
          ]
        }
      ]
    },
    {
      "cell_type": "markdown",
      "source": [
        "## Data Wrangling - Missing Values, transformation\n"
      ],
      "metadata": {
        "id": "eJCfgEL8FWg2"
      }
    },
    {
      "cell_type": "markdown",
      "source": [
        "https://jamesrledoux.com/code/imputation"
      ],
      "metadata": {
        "id": "NI-qWNDaHwbH"
      }
    },
    {
      "cell_type": "code",
      "metadata": {
        "id": "CVSfaqgKPzE2",
        "colab": {
          "base_uri": "https://localhost:8080/"
        },
        "outputId": "8e84cbf1-d859-4c65-ca39-9c376b09fd24"
      },
      "source": [
        "#unkown values\n",
        "\n",
        "(cus=='unknown').sum()"
      ],
      "execution_count": 7,
      "outputs": [
        {
          "output_type": "execute_result",
          "data": {
            "text/plain": [
              "cust_id          0\n",
              " month_birth     0\n",
              "dob              0\n",
              "year_birth       0\n",
              "Unnamed: 4       0\n",
              "country          0\n",
              "times            0\n",
              "cash_vs_card     0\n",
              "pay_level        0\n",
              "marital          0\n",
              "level_edu        0\n",
              "salary           0\n",
              "dtype: int64"
            ]
          },
          "metadata": {},
          "execution_count": 7
        }
      ]
    },
    {
      "cell_type": "code",
      "source": [
        "df_im=cus"
      ],
      "metadata": {
        "id": "VLMiMzPBNlTs"
      },
      "execution_count": 8,
      "outputs": []
    },
    {
      "cell_type": "code",
      "source": [
        "corrMatrix = df_im.corr()\n",
        "sns.heatmap(corrMatrix, annot=True, annot_kws={\"size\": 7})\n",
        "plt.figure(figsize=(20, 10))\n",
        "plt.show()\n",
        "\n",
        "corrMatrix"
      ],
      "metadata": {
        "id": "Y1iUJp6P8T2g",
        "outputId": "ba82b09e-9766-456a-96a9-4eed282e0998",
        "colab": {
          "base_uri": "https://localhost:8080/",
          "height": 841
        }
      },
      "execution_count": 9,
      "outputs": [
        {
          "output_type": "stream",
          "name": "stderr",
          "text": [
            "<ipython-input-9-cc359407d008>:1: FutureWarning: The default value of numeric_only in DataFrame.corr is deprecated. In a future version, it will default to False. Select only valid columns or specify the value of numeric_only to silence this warning.\n",
            "  corrMatrix = df_im.corr()\n"
          ]
        },
        {
          "output_type": "display_data",
          "data": {
            "text/plain": [
              "<Figure size 640x480 with 2 Axes>"
            ],
            "image/png": "[encoded data removed]"
          },
          "metadata": {}
        },
        {
          "output_type": "display_data",
          "data": {
            "text/plain": [
              "<Figure size 2000x1000 with 0 Axes>"
            ]
          },
          "metadata": {}
        },
        {
          "output_type": "execute_result",
          "data": {
            "text/plain": [
              "                cust_id   month_birth        dob  year_birth  Unnamed: 4  \\\n",
              "cust_id        1.000000      -0.002359 -0.004904   -0.001130         NaN   \n",
              " month_birth  -0.002359       1.000000  0.014912   -0.022193         NaN   \n",
              "dob           -0.004904       0.014912  1.000000    0.000293         NaN   \n",
              "year_birth    -0.001130      -0.022193  0.000293    1.000000         NaN   \n",
              "Unnamed: 4          NaN            NaN       NaN         NaN         NaN   \n",
              "times         -0.066330       0.009072  0.001878   -0.038232         NaN   \n",
              "salary        -0.002792       0.006117 -0.005554   -0.001995         NaN   \n",
              "\n",
              "                  times    salary  \n",
              "cust_id       -0.066330 -0.002792  \n",
              " month_birth   0.009072  0.006117  \n",
              "dob            0.001878 -0.005554  \n",
              "year_birth    -0.038232 -0.001995  \n",
              "Unnamed: 4          NaN       NaN  \n",
              "times          1.000000  0.001538  \n",
              "salary         0.001538  1.000000  "
            ],
            "text/html": [
              "\n",
              "  <div id=\"df-56a29dd2-b3f5-4144-b46a-3bbced6e619f\" class=\"colab-df-container\">\n",
              "    <div>\n",
              "<style scoped>\n",
              "    .dataframe tbody tr th:only-of-type {\n",
              "        vertical-align: middle;\n",
              "    }\n",
              "\n",
              "    .dataframe tbody tr th {\n",
              "        vertical-align: top;\n",
              "    }\n",
              "\n",
              "    .dataframe thead th {\n",
              "        text-align: right;\n",
              "    }\n",
              "</style>\n",
              "<table border=\"1\" class=\"dataframe\">\n",
              "  <thead>\n",
              "    <tr style=\"text-align: right;\">\n",
              "      <th></th>\n",
              "      <th>cust_id</th>\n",
              "      <th>month_birth</th>\n",
              "      <th>dob</th>\n",
              "      <th>year_birth</th>\n",
              "      <th>Unnamed: 4</th>\n",
              "      <th>times</th>\n",
              "      <th>salary</th>\n",
              "    </tr>\n",
              "  </thead>\n",
              "  <tbody>\n",
              "    <tr>\n",
              "      <th>cust_id</th>\n",
              "      <td>1.000000</td>\n",
              "      <td>-0.002359</td>\n",
              "      <td>-0.004904</td>\n",
              "      <td>-0.001130</td>\n",
              "      <td>NaN</td>\n",
              "      <td>-0.066330</td>\n",
              "      <td>-0.002792</td>\n",
              "    </tr>\n",
              "    <tr>\n",
              "      <th>month_birth</th>\n",
              "      <td>-0.002359</td>\n",
              "      <td>1.000000</td>\n",
              "      <td>0.014912</td>\n",
              "      <td>-0.022193</td>\n",
              "      <td>NaN</td>\n",
              "      <td>0.009072</td>\n",
              "      <td>0.006117</td>\n",
              "    </tr>\n",
              "    <tr>\n",
              "      <th>dob</th>\n",
              "      <td>-0.004904</td>\n",
              "      <td>0.014912</td>\n",
              "      <td>1.000000</td>\n",
              "      <td>0.000293</td>\n",
              "      <td>NaN</td>\n",
              "      <td>0.001878</td>\n",
              "      <td>-0.005554</td>\n",
              "    </tr>\n",
              "    <tr>\n",
              "      <th>year_birth</th>\n",
              "      <td>-0.001130</td>\n",
              "      <td>-0.022193</td>\n",
              "      <td>0.000293</td>\n",
              "      <td>1.000000</td>\n",
              "      <td>NaN</td>\n",
              "      <td>-0.038232</td>\n",
              "      <td>-0.001995</td>\n",
              "    </tr>\n",
              "    <tr>\n",
              "      <th>Unnamed: 4</th>\n",
              "      <td>NaN</td>\n",
              "      <td>NaN</td>\n",
              "      <td>NaN</td>\n",
              "      <td>NaN</td>\n",
              "      <td>NaN</td>\n",
              "      <td>NaN</td>\n",
              "      <td>NaN</td>\n",
              "    </tr>\n",
              "    <tr>\n",
              "      <th>times</th>\n",
              "      <td>-0.066330</td>\n",
              "      <td>0.009072</td>\n",
              "      <td>0.001878</td>\n",
              "      <td>-0.038232</td>\n",
              "      <td>NaN</td>\n",
              "      <td>1.000000</td>\n",
              "      <td>0.001538</td>\n",
              "    </tr>\n",
              "    <tr>\n",
              "      <th>salary</th>\n",
              "      <td>-0.002792</td>\n",
              "      <td>0.006117</td>\n",
              "      <td>-0.005554</td>\n",
              "      <td>-0.001995</td>\n",
              "      <td>NaN</td>\n",
              "      <td>0.001538</td>\n",
              "      <td>1.000000</td>\n",
              "    </tr>\n",
              "  </tbody>\n",
              "</table>\n",
              "</div>\n",
              "    <div class=\"colab-df-buttons\">\n",
              "\n",
              "  <div class=\"colab-df-container\">\n",
              "    <button class=\"colab-df-convert\" onclick=\"convertToInteractive('df-56a29dd2-b3f5-4144-b46a-3bbced6e619f')\"\n",
              "            title=\"Convert this dataframe to an interactive table.\"\n",
              "            style=\"display:none;\">\n",
              "\n",
              "  <svg xmlns=\"http://www.w3.org/2000/svg\" height=\"24px\" viewBox=\"0 -960 960 960\">\n",
              "    <path d=\"M120-120v-720h720v720H120Zm60-500h600v-160H180v160Zm220 220h160v-160H400v160Zm0 220h160v-160H400v160ZM180-400h160v-160H180v160Zm440 0h160v-160H620v160ZM180-180h160v-160H180v160Zm440 0h160v-160H620v160Z\"/>\n",
              "  </svg>\n",
              "    </button>\n",
              "\n",
              "  <style>\n",
              "    .colab-df-container {\n",
              "      display:flex;\n",
              "      gap: 12px;\n",
              "    }\n",
              "\n",
              "    .colab-df-convert {\n",
              "      background-color: #E8F0FE;\n",
              "      border: none;\n",
              "      border-radius: 50%;\n",
              "      cursor: pointer;\n",
              "      display: none;\n",
              "      fill: #1967D2;\n",
              "      height: 32px;\n",
              "      padding: 0 0 0 0;\n",
              "      width: 32px;\n",
              "    }\n",
              "\n",
              "    .colab-df-convert:hover {\n",
              "      background-color: #E2EBFA;\n",
              "      box-shadow: 0px 1px 2px rgba(60, 64, 67, 0.3), 0px 1px 3px 1px rgba(60, 64, 67, 0.15);\n",
              "      fill: #174EA6;\n",
              "    }\n",
              "\n",
              "    .colab-df-buttons div {\n",
              "      margin-bottom: 4px;\n",
              "    }\n",
              "\n",
              "    [theme=dark] .colab-df-convert {\n",
              "      background-color: #3B4455;\n",
              "      fill: #D2E3FC;\n",
              "    }\n",
              "\n",
              "    [theme=dark] .colab-df-convert:hover {\n",
              "      background-color: #434B5C;\n",
              "      box-shadow: 0px 1px 3px 1px rgba(0, 0, 0, 0.15);\n",
              "      filter: drop-shadow(0px 1px 2px rgba(0, 0, 0, 0.3));\n",
              "      fill: #FFFFFF;\n",
              "    }\n",
              "  </style>\n",
              "\n",
              "    <script>\n",
              "      const buttonEl =\n",
              "        document.querySelector('#df-56a29dd2-b3f5-4144-b46a-3bbced6e619f button.colab-df-convert');\n",
              "      buttonEl.style.display =\n",
              "        google.colab.kernel.accessAllowed ? 'block' : 'none';\n",
              "\n",
              "      async function convertToInteractive(key) {\n",
              "        const element = document.querySelector('#df-56a29dd2-b3f5-4144-b46a-3bbced6e619f');\n",
              "        const dataTable =\n",
              "          await google.colab.kernel.invokeFunction('convertToInteractive',\n",
              "                                                    [key], {});\n",
              "        if (!dataTable) return;\n",
              "\n",
              "        const docLinkHtml = 'Like what you see? Visit the ' +\n",
              "          '<a target=\"_blank\" href=https://colab.research.google.com/notebooks/data_table.ipynb>data table notebook</a>'\n",
              "          + ' to learn more about interactive tables.';\n",
              "        element.innerHTML = '';\n",
              "        dataTable['output_type'] = 'display_data';\n",
              "        await google.colab.output.renderOutput(dataTable, element);\n",
              "        const docLink = document.createElement('div');\n",
              "        docLink.innerHTML = docLinkHtml;\n",
              "        element.appendChild(docLink);\n",
              "      }\n",
              "    </script>\n",
              "  </div>\n",
              "\n",
              "\n",
              "<div id=\"df-30ff55ed-5593-4c75-8b10-9ff830ecd04c\">\n",
              "  <button class=\"colab-df-quickchart\" onclick=\"quickchart('df-30ff55ed-5593-4c75-8b10-9ff830ecd04c')\"\n",
              "            title=\"Suggest charts\"\n",
              "            style=\"display:none;\">\n",
              "\n",
              "<svg xmlns=\"http://www.w3.org/2000/svg\" height=\"24px\"viewBox=\"0 0 24 24\"\n",
              "     width=\"24px\">\n",
              "    <g>\n",
              "        <path d=\"M19 3H5c-1.1 0-2 .9-2 2v14c0 1.1.9 2 2 2h14c1.1 0 2-.9 2-2V5c0-1.1-.9-2-2-2zM9 17H7v-7h2v7zm4 0h-2V7h2v10zm4 0h-2v-4h2v4z\"/>\n",
              "    </g>\n",
              "</svg>\n",
              "  </button>\n",
              "\n",
              "<style>\n",
              "  .colab-df-quickchart {\n",
              "      --bg-color: #E8F0FE;\n",
              "      --fill-color: #1967D2;\n",
              "      --hover-bg-color: #E2EBFA;\n",
              "      --hover-fill-color: #174EA6;\n",
              "      --disabled-fill-color: #AAA;\n",
              "      --disabled-bg-color: #DDD;\n",
              "  }\n",
              "\n",
              "  [theme=dark] .colab-df-quickchart {\n",
              "      --bg-color: #3B4455;\n",
              "      --fill-color: #D2E3FC;\n",
              "      --hover-bg-color: #434B5C;\n",
              "      --hover-fill-color: #FFFFFF;\n",
              "      --disabled-bg-color: #3B4455;\n",
              "      --disabled-fill-color: #666;\n",
              "  }\n",
              "\n",
              "  .colab-df-quickchart {\n",
              "    background-color: var(--bg-color);\n",
              "    border: none;\n",
              "    border-radius: 50%;\n",
              "    cursor: pointer;\n",
              "    display: none;\n",
              "    fill: var(--fill-color);\n",
              "    height: 32px;\n",
              "    padding: 0;\n",
              "    width: 32px;\n",
              "  }\n",
              "\n",
              "  .colab-df-quickchart:hover {\n",
              "    background-color: var(--hover-bg-color);\n",
              "    box-shadow: 0 1px 2px rgba(60, 64, 67, 0.3), 0 1px 3px 1px rgba(60, 64, 67, 0.15);\n",
              "    fill: var(--button-hover-fill-color);\n",
              "  }\n",
              "\n",
              "  .colab-df-quickchart-complete:disabled,\n",
              "  .colab-df-quickchart-complete:disabled:hover {\n",
              "    background-color: var(--disabled-bg-color);\n",
              "    fill: var(--disabled-fill-color);\n",
              "    box-shadow: none;\n",
              "  }\n",
              "\n",
              "  .colab-df-spinner {\n",
              "    border: 2px solid var(--fill-color);\n",
              "    border-color: transparent;\n",
              "    border-bottom-color: var(--fill-color);\n",
              "    animation:\n",
              "      spin 1s steps(1) infinite;\n",
              "  }\n",
              "\n",
              "  @keyframes spin {\n",
              "    0% {\n",
              "      border-color: transparent;\n",
              "      border-bottom-color: var(--fill-color);\n",
              "      border-left-color: var(--fill-color);\n",
              "    }\n",
              "    20% {\n",
              "      border-color: transparent;\n",
              "      border-left-color: var(--fill-color);\n",
              "      border-top-color: var(--fill-color);\n",
              "    }\n",
              "    30% {\n",
              "      border-color: transparent;\n",
              "      border-left-color: var(--fill-color);\n",
              "      border-top-color: var(--fill-color);\n",
              "      border-right-color: var(--fill-color);\n",
              "    }\n",
              "    40% {\n",
              "      border-color: transparent;\n",
              "      border-right-color: var(--fill-color);\n",
              "      border-top-color: var(--fill-color);\n",
              "    }\n",
              "    60% {\n",
              "      border-color: transparent;\n",
              "      border-right-color: var(--fill-color);\n",
              "    }\n",
              "    80% {\n",
              "      border-color: transparent;\n",
              "      border-right-color: var(--fill-color);\n",
              "      border-bottom-color: var(--fill-color);\n",
              "    }\n",
              "    90% {\n",
              "      border-color: transparent;\n",
              "      border-bottom-color: var(--fill-color);\n",
              "    }\n",
              "  }\n",
              "</style>\n",
              "\n",
              "  <script>\n",
              "    async function quickchart(key) {\n",
              "      const quickchartButtonEl =\n",
              "        document.querySelector('#' + key + ' button');\n",
              "      quickchartButtonEl.disabled = true;  // To prevent multiple clicks.\n",
              "      quickchartButtonEl.classList.add('colab-df-spinner');\n",
              "      try {\n",
              "        const charts = await google.colab.kernel.invokeFunction(\n",
              "            'suggestCharts', [key], {});\n",
              "      } catch (error) {\n",
              "        console.error('Error during call to suggestCharts:', error);\n",
              "      }\n",
              "      quickchartButtonEl.classList.remove('colab-df-spinner');\n",
              "      quickchartButtonEl.classList.add('colab-df-quickchart-complete');\n",
              "    }\n",
              "    (() => {\n",
              "      let quickchartButtonEl =\n",
              "        document.querySelector('#df-30ff55ed-5593-4c75-8b10-9ff830ecd04c button');\n",
              "      quickchartButtonEl.style.display =\n",
              "        google.colab.kernel.accessAllowed ? 'block' : 'none';\n",
              "    })();\n",
              "  </script>\n",
              "</div>\n",
              "\n",
              "  <div id=\"id_959e7c3e-f1e5-4a05-9b5f-b3fbf553441b\">\n",
              "    <style>\n",
              "      .colab-df-generate {\n",
              "        background-color: #E8F0FE;\n",
              "        border: none;\n",
              "        border-radius: 50%;\n",
              "        cursor: pointer;\n",
              "        display: none;\n",
              "        fill: #1967D2;\n",
              "        height: 32px;\n",
              "        padding: 0 0 0 0;\n",
              "        width: 32px;\n",
              "      }\n",
              "\n",
              "      .colab-df-generate:hover {\n",
              "        background-color: #E2EBFA;\n",
              "        box-shadow: 0px 1px 2px rgba(60, 64, 67, 0.3), 0px 1px 3px 1px rgba(60, 64, 67, 0.15);\n",
              "        fill: #174EA6;\n",
              "      }\n",
              "\n",
              "      [theme=dark] .colab-df-generate {\n",
              "        background-color: #3B4455;\n",
              "        fill: #D2E3FC;\n",
              "      }\n",
              "\n",
              "      [theme=dark] .colab-df-generate:hover {\n",
              "        background-color: #434B5C;\n",
              "        box-shadow: 0px 1px 3px 1px rgba(0, 0, 0, 0.15);\n",
              "        filter: drop-shadow(0px 1px 2px rgba(0, 0, 0, 0.3));\n",
              "        fill: #FFFFFF;\n",
              "      }\n",
              "    </style>\n",
              "    <button class=\"colab-df-generate\" onclick=\"generateWithVariable('corrMatrix')\"\n",
              "            title=\"Generate code using this dataframe.\"\n",
              "            style=\"display:none;\">\n",
              "\n",
              "  <svg xmlns=\"http://www.w3.org/2000/svg\" height=\"24px\"viewBox=\"0 0 24 24\"\n",
              "       width=\"24px\">\n",
              "    <path d=\"M7,19H8.4L18.45,9,17,7.55,7,17.6ZM5,21V16.75L18.45,3.32a2,2,0,0,1,2.83,0l1.4,1.43a1.91,1.91,0,0,1,.58,1.4,1.91,1.91,0,0,1-.58,1.4L9.25,21ZM18.45,9,17,7.55Zm-12,3A5.31,5.31,0,0,0,4.9,8.1,5.31,5.31,0,0,0,1,6.5,5.31,5.31,0,0,0,4.9,4.9,5.31,5.31,0,0,0,6.5,1,5.31,5.31,0,0,0,8.1,4.9,5.31,5.31,0,0,0,12,6.5,5.46,5.46,0,0,0,6.5,12Z\"/>\n",
              "  </svg>\n",
              "    </button>\n",
              "    <script>\n",
              "      (() => {\n",
              "      const buttonEl =\n",
              "        document.querySelector('#id_959e7c3e-f1e5-4a05-9b5f-b3fbf553441b button.colab-df-generate');\n",
              "      buttonEl.style.display =\n",
              "        google.colab.kernel.accessAllowed ? 'block' : 'none';\n",
              "\n",
              "      buttonEl.onclick = () => {\n",
              "        google.colab.notebook.generateWithVariable('corrMatrix');\n",
              "      }\n",
              "      })();\n",
              "    </script>\n",
              "  </div>\n",
              "\n",
              "    </div>\n",
              "  </div>\n"
            ],
            "application/vnd.google.colaboratory.intrinsic+json": {
              "type": "dataframe",
              "variable_name": "corrMatrix",
              "summary": "{\n  \"name\": \"corrMatrix\",\n  \"rows\": 7,\n  \"fields\": [\n    {\n      \"column\": \"cust_id\",\n      \"properties\": {\n        \"dtype\": \"number\",\n        \"std\": 0.4153573608447396,\n        \"min\": -0.0663303183571344,\n        \"max\": 1.0,\n        \"num_unique_values\": 6,\n        \"samples\": [\n          1.0,\n          -0.002358771977625248,\n          -0.0027921973696518076\n        ],\n        \"semantic_type\": \"\",\n        \"description\": \"\"\n      }\n    },\n    {\n      \"column\": \" month_birth \",\n      \"properties\": {\n        \"dtype\": \"number\",\n        \"std\": 0.4079996539979402,\n        \"min\": -0.022193121236090463,\n        \"max\": 1.0,\n        \"num_unique_values\": 6,\n        \"samples\": [\n          -0.002358771977625248,\n          1.0,\n          0.006117197033281325\n        ],\n        \"semantic_type\": \"\",\n        \"description\": \"\"\n      }\n    },\n    {\n      \"column\": \"dob\",\n      \"properties\": {\n        \"dtype\": \"number\",\n        \"std\": 0.407774065823666,\n        \"min\": -0.005553804154882247,\n        \"max\": 1.0,\n        \"num_unique_values\": 6,\n        \"samples\": [\n          -0.004903836361433368,\n          0.014912424513655641,\n          -0.005553804154882247\n        ],\n        \"semantic_type\": \"\",\n        \"description\": \"\"\n      }\n    },\n    {\n      \"column\": \"year_birth\",\n      \"properties\": {\n        \"dtype\": \"number\",\n        \"std\": 0.4136935388129086,\n        \"min\": -0.03823229219521276,\n        \"max\": 1.0,\n        \"num_unique_values\": 6,\n        \"samples\": [\n          -0.001130047171474343,\n          -0.022193121236090463,\n          -0.0019945815810072406\n        ],\n        \"semantic_type\": \"\",\n        \"description\": \"\"\n      }\n    },\n    {\n      \"column\": \"Unnamed: 4\",\n      \"properties\": {\n        \"dtype\": \"number\",\n        \"std\": null,\n        \"min\": null,\n        \"max\": null,\n        \"num_unique_values\": 0,\n        \"samples\": [],\n        \"semantic_type\": \"\",\n        \"description\": \"\"\n      }\n    },\n    {\n      \"column\": \"times\",\n      \"properties\": {\n        \"dtype\": \"number\",\n        \"std\": 0.41678809803756717,\n        \"min\": -0.0663303183571344,\n        \"max\": 1.0,\n        \"num_unique_values\": 6,\n        \"samples\": [],\n        \"semantic_type\": \"\",\n        \"description\": \"\"\n      }\n    },\n    {\n      \"column\": \"salary\",\n      \"properties\": {\n        \"dtype\": \"number\",\n        \"std\": 0.4084873411499686,\n        \"min\": -0.005553804154882247,\n        \"max\": 1.0,\n        \"num_unique_values\": 6,\n        \"samples\": [],\n        \"semantic_type\": \"\",\n        \"description\": \"\"\n      }\n    }\n  ]\n}"
            }
          },
          "metadata": {},
          "execution_count": 9
        }
      ]
    },
    {
      "cell_type": "markdown",
      "source": [
        "## Encoded Values"
      ],
      "metadata": {
        "id": "rzuJEK2Ma_dR"
      }
    },
    {
      "cell_type": "code",
      "source": [
        "df_im['pay_level'].unique()"
      ],
      "metadata": {
        "id": "DcnWk7n-Er7a",
        "outputId": "00addba6-08b3-42c2-cddc-e9c8b25a7b31",
        "colab": {
          "base_uri": "https://localhost:8080/"
        }
      },
      "execution_count": 10,
      "outputs": [
        {
          "output_type": "execute_result",
          "data": {
            "text/plain": [
              "array(['LOW', 'HIGH', 'MEDIUM'], dtype=object)"
            ]
          },
          "metadata": {},
          "execution_count": 10
        }
      ]
    },
    {
      "cell_type": "code",
      "source": [
        "# label encoded values\n",
        "\n",
        "df_im['country'] = df_im['country'].astype('category')\n",
        "df_im['cash_vs_card'] = df_im['cash_vs_card'].astype('category')\n",
        "df_im['level_edu'] = df_im['level_edu'].astype('category')\n",
        "df_im['marital'] = df_im['marital'].astype('category')\n",
        "\n",
        "\n",
        "# cat codes\n",
        "df_im['country'] = df_im['country'].cat.codes\n",
        "df_im['cash_vs_card'] = df_im['cash_vs_card'].cat.codes\n",
        "df_im['level_edu'] = df_im['level_edu'].cat.codes\n",
        "df_im['marital']=df_im['marital'].cat.codes\n",
        "\n"
      ],
      "metadata": {
        "id": "-M6l8lFMOCgJ"
      },
      "execution_count": 11,
      "outputs": []
    },
    {
      "cell_type": "markdown",
      "source": [
        "df_im.columns"
      ],
      "metadata": {
        "id": "xm5BTYaVSUEM"
      }
    },
    {
      "cell_type": "code",
      "source": [
        "import numpy as np"
      ],
      "metadata": {
        "id": "q7Pspo0yjoMI"
      },
      "execution_count": 12,
      "outputs": []
    },
    {
      "cell_type": "code",
      "source": [
        "df_im['pay_level'].unique()"
      ],
      "metadata": {
        "id": "XggIXzVZc5Jo",
        "outputId": "b63102b8-6a7d-45fb-ab0a-f95a0fa43de7",
        "colab": {
          "base_uri": "https://localhost:8080/"
        }
      },
      "execution_count": 13,
      "outputs": [
        {
          "output_type": "execute_result",
          "data": {
            "text/plain": [
              "array(['LOW', 'HIGH', 'MEDIUM'], dtype=object)"
            ]
          },
          "metadata": {},
          "execution_count": 13
        }
      ]
    },
    {
      "cell_type": "code",
      "source": [
        "conditions = [\n",
        "    df_im[\"pay_level\"] == \"LOW\",\n",
        "    df_im[\"pay_level\"] == \"MEDIUM\",\n",
        "    df_im[\"pay_level\"] == \"HIGH\"\n",
        "]\n",
        "values = [1, 2, 3]\n",
        "\n",
        "# Apply np.select\n",
        "df_im['pay_level'] = np.select(conditions, values, default=0)"
      ],
      "metadata": {
        "id": "M7WCFBHBj2mp"
      },
      "execution_count": 14,
      "outputs": []
    },
    {
      "cell_type": "code",
      "source": [
        "df_im['pay_level']. unique()"
      ],
      "metadata": {
        "id": "7BCnmK_eBqZQ",
        "outputId": "69747243-4156-432c-bed3-21dfe85127ab",
        "colab": {
          "base_uri": "https://localhost:8080/"
        }
      },
      "execution_count": 15,
      "outputs": [
        {
          "output_type": "execute_result",
          "data": {
            "text/plain": [
              "array([1, 3, 2])"
            ]
          },
          "metadata": {},
          "execution_count": 15
        }
      ]
    },
    {
      "cell_type": "code",
      "source": [
        "corrMatrix = df_im.corr()\n",
        "sns.heatmap(corrMatrix, annot=True, annot_kws={\"size\": 7})\n",
        "plt.figure(figsize=(20, 10))\n",
        "plt.show()\n",
        "\n",
        "corrMatrix"
      ],
      "metadata": {
        "id": "k5c8ZqzsBhFg",
        "outputId": "8f22e064-ef43-45e2-b5e0-e3acad8e97be",
        "colab": {
          "base_uri": "https://localhost:8080/",
          "height": 942
        }
      },
      "execution_count": 16,
      "outputs": [
        {
          "output_type": "display_data",
          "data": {
            "text/plain": [
              "<Figure size 640x480 with 2 Axes>"
            ],
            "image/png": "[encoded data removed]"
          },
          "metadata": {}
        },
        {
          "output_type": "display_data",
          "data": {
            "text/plain": [
              "<Figure size 2000x1000 with 0 Axes>"
            ]
          },
          "metadata": {}
        },
        {
          "output_type": "execute_result",
          "data": {
            "text/plain": [
              "                cust_id   month_birth        dob  year_birth  Unnamed: 4  \\\n",
              "cust_id        1.000000      -0.002359 -0.004904   -0.001130         NaN   \n",
              " month_birth  -0.002359       1.000000  0.014912   -0.022193         NaN   \n",
              "dob           -0.004904       0.014912  1.000000    0.000293         NaN   \n",
              "year_birth    -0.001130      -0.022193  0.000293    1.000000         NaN   \n",
              "Unnamed: 4          NaN            NaN       NaN         NaN         NaN   \n",
              "country       -0.027063       0.011982  0.000106   -0.006241         NaN   \n",
              "times         -0.066330       0.009072  0.001878   -0.038232         NaN   \n",
              "cash_vs_card  -0.029587       0.004646 -0.007235   -0.014356         NaN   \n",
              "pay_level     -0.011039       0.000143 -0.004053   -0.044591         NaN   \n",
              "marital        0.001495      -0.000767  0.000227   -0.009534         NaN   \n",
              "level_edu      0.016253      -0.001150 -0.005867    0.003665         NaN   \n",
              "salary        -0.002792       0.006117 -0.005554   -0.001995         NaN   \n",
              "\n",
              "                country     times  cash_vs_card  pay_level   marital  \\\n",
              "cust_id       -0.027063 -0.066330     -0.029587  -0.011039  0.001495   \n",
              " month_birth   0.011982  0.009072      0.004646   0.000143 -0.000767   \n",
              "dob            0.000106  0.001878     -0.007235  -0.004053  0.000227   \n",
              "year_birth    -0.006241 -0.038232     -0.014356  -0.044591 -0.009534   \n",
              "Unnamed: 4          NaN       NaN           NaN        NaN       NaN   \n",
              "country        1.000000  0.123541     -0.029825  -0.614509  0.001571   \n",
              "times          0.123541  1.000000     -0.034138   0.237602 -0.001850   \n",
              "cash_vs_card  -0.029825 -0.034138      1.000000  -0.007997  0.003435   \n",
              "pay_level     -0.614509  0.237602     -0.007997   1.000000 -0.002287   \n",
              "marital        0.001571 -0.001850      0.003435  -0.002287  1.000000   \n",
              "level_edu     -0.001655 -0.000535      0.001852  -0.007175  0.001581   \n",
              "salary        -0.008678  0.001538      0.005336   0.007771  0.000687   \n",
              "\n",
              "               level_edu    salary  \n",
              "cust_id         0.016253 -0.002792  \n",
              " month_birth   -0.001150  0.006117  \n",
              "dob            -0.005867 -0.005554  \n",
              "year_birth      0.003665 -0.001995  \n",
              "Unnamed: 4           NaN       NaN  \n",
              "country        -0.001655 -0.008678  \n",
              "times          -0.000535  0.001538  \n",
              "cash_vs_card    0.001852  0.005336  \n",
              "pay_level      -0.007175  0.007771  \n",
              "marital         0.001581  0.000687  \n",
              "level_edu       1.000000  0.002070  \n",
              "salary          0.002070  1.000000  "
            ],
            "text/html": [
              "\n",
              "  <div id=\"df-ab81b25a-dd76-4240-858f-95ca2c209c2f\" class=\"colab-df-container\">\n",
              "    <div>\n",
              "<style scoped>\n",
              "    .dataframe tbody tr th:only-of-type {\n",
              "        vertical-align: middle;\n",
              "    }\n",
              "\n",
              "    .dataframe tbody tr th {\n",
              "        vertical-align: top;\n",
              "    }\n",
              "\n",
              "    .dataframe thead th {\n",
              "        text-align: right;\n",
              "    }\n",
              "</style>\n",
              "<table border=\"1\" class=\"dataframe\">\n",
              "  <thead>\n",
              "    <tr style=\"text-align: right;\">\n",
              "      <th></th>\n",
              "      <th>cust_id</th>\n",
              "      <th>month_birth</th>\n",
              "      <th>dob</th>\n",
              "      <th>year_birth</th>\n",
              "      <th>Unnamed: 4</th>\n",
              "      <th>country</th>\n",
              "      <th>times</th>\n",
              "      <th>cash_vs_card</th>\n",
              "      <th>pay_level</th>\n",
              "      <th>marital</th>\n",
              "      <th>level_edu</th>\n",
              "      <th>salary</th>\n",
              "    </tr>\n",
              "  </thead>\n",
              "  <tbody>\n",
              "    <tr>\n",
              "      <th>cust_id</th>\n",
              "      <td>1.000000</td>\n",
              "      <td>-0.002359</td>\n",
              "      <td>-0.004904</td>\n",
              "      <td>-0.001130</td>\n",
              "      <td>NaN</td>\n",
              "      <td>-0.027063</td>\n",
              "      <td>-0.066330</td>\n",
              "      <td>-0.029587</td>\n",
              "      <td>-0.011039</td>\n",
              "      <td>0.001495</td>\n",
              "      <td>0.016253</td>\n",
              "      <td>-0.002792</td>\n",
              "    </tr>\n",
              "    <tr>\n",
              "      <th>month_birth</th>\n",
              "      <td>-0.002359</td>\n",
              "      <td>1.000000</td>\n",
              "      <td>0.014912</td>\n",
              "      <td>-0.022193</td>\n",
              "      <td>NaN</td>\n",
              "      <td>0.011982</td>\n",
              "      <td>0.009072</td>\n",
              "      <td>0.004646</td>\n",
              "      <td>0.000143</td>\n",
              "      <td>-0.000767</td>\n",
              "      <td>-0.001150</td>\n",
              "      <td>0.006117</td>\n",
              "    </tr>\n",
              "    <tr>\n",
              "      <th>dob</th>\n",
              "      <td>-0.004904</td>\n",
              "      <td>0.014912</td>\n",
              "      <td>1.000000</td>\n",
              "      <td>0.000293</td>\n",
              "      <td>NaN</td>\n",
              "      <td>0.000106</td>\n",
              "      <td>0.001878</td>\n",
              "      <td>-0.007235</td>\n",
              "      <td>-0.004053</td>\n",
              "      <td>0.000227</td>\n",
              "      <td>-0.005867</td>\n",
              "      <td>-0.005554</td>\n",
              "    </tr>\n",
              "    <tr>\n",
              "      <th>year_birth</th>\n",
              "      <td>-0.001130</td>\n",
              "      <td>-0.022193</td>\n",
              "      <td>0.000293</td>\n",
              "      <td>1.000000</td>\n",
              "      <td>NaN</td>\n",
              "      <td>-0.006241</td>\n",
              "      <td>-0.038232</td>\n",
              "      <td>-0.014356</td>\n",
              "      <td>-0.044591</td>\n",
              "      <td>-0.009534</td>\n",
              "      <td>0.003665</td>\n",
              "      <td>-0.001995</td>\n",
              "    </tr>\n",
              "    <tr>\n",
              "      <th>Unnamed: 4</th>\n",
              "      <td>NaN</td>\n",
              "      <td>NaN</td>\n",
              "      <td>NaN</td>\n",
              "      <td>NaN</td>\n",
              "      <td>NaN</td>\n",
              "      <td>NaN</td>\n",
              "      <td>NaN</td>\n",
              "      <td>NaN</td>\n",
              "      <td>NaN</td>\n",
              "      <td>NaN</td>\n",
              "      <td>NaN</td>\n",
              "      <td>NaN</td>\n",
              "    </tr>\n",
              "    <tr>\n",
              "      <th>country</th>\n",
              "      <td>-0.027063</td>\n",
              "      <td>0.011982</td>\n",
              "      <td>0.000106</td>\n",
              "      <td>-0.006241</td>\n",
              "      <td>NaN</td>\n",
              "      <td>1.000000</td>\n",
              "      <td>0.123541</td>\n",
              "      <td>-0.029825</td>\n",
              "      <td>-0.614509</td>\n",
              "      <td>0.001571</td>\n",
              "      <td>-0.001655</td>\n",
              "      <td>-0.008678</td>\n",
              "    </tr>\n",
              "    <tr>\n",
              "      <th>times</th>\n",
              "      <td>-0.066330</td>\n",
              "      <td>0.009072</td>\n",
              "      <td>0.001878</td>\n",
              "      <td>-0.038232</td>\n",
              "      <td>NaN</td>\n",
              "      <td>0.123541</td>\n",
              "      <td>1.000000</td>\n",
              "      <td>-0.034138</td>\n",
              "      <td>0.237602</td>\n",
              "      <td>-0.001850</td>\n",
              "      <td>-0.000535</td>\n",
              "      <td>0.001538</td>\n",
              "    </tr>\n",
              "    <tr>\n",
              "      <th>cash_vs_card</th>\n",
              "      <td>-0.029587</td>\n",
              "      <td>0.004646</td>\n",
              "      <td>-0.007235</td>\n",
              "      <td>-0.014356</td>\n",
              "      <td>NaN</td>\n",
              "      <td>-0.029825</td>\n",
              "      <td>-0.034138</td>\n",
              "      <td>1.000000</td>\n",
              "      <td>-0.007997</td>\n",
              "      <td>0.003435</td>\n",
              "      <td>0.001852</td>\n",
              "      <td>0.005336</td>\n",
              "    </tr>\n",
              "    <tr>\n",
              "      <th>pay_level</th>\n",
              "      <td>-0.011039</td>\n",
              "      <td>0.000143</td>\n",
              "      <td>-0.004053</td>\n",
              "      <td>-0.044591</td>\n",
              "      <td>NaN</td>\n",
              "      <td>-0.614509</td>\n",
              "      <td>0.237602</td>\n",
              "      <td>-0.007997</td>\n",
              "      <td>1.000000</td>\n",
              "      <td>-0.002287</td>\n",
              "      <td>-0.007175</td>\n",
              "      <td>0.007771</td>\n",
              "    </tr>\n",
              "    <tr>\n",
              "      <th>marital</th>\n",
              "      <td>0.001495</td>\n",
              "      <td>-0.000767</td>\n",
              "      <td>0.000227</td>\n",
              "      <td>-0.009534</td>\n",
              "      <td>NaN</td>\n",
              "      <td>0.001571</td>\n",
              "      <td>-0.001850</td>\n",
              "      <td>0.003435</td>\n",
              "      <td>-0.002287</td>\n",
              "      <td>1.000000</td>\n",
              "      <td>0.001581</td>\n",
              "      <td>0.000687</td>\n",
              "    </tr>\n",
              "    <tr>\n",
              "      <th>level_edu</th>\n",
              "      <td>0.016253</td>\n",
              "      <td>-0.001150</td>\n",
              "      <td>-0.005867</td>\n",
              "      <td>0.003665</td>\n",
              "      <td>NaN</td>\n",
              "      <td>-0.001655</td>\n",
              "      <td>-0.000535</td>\n",
              "      <td>0.001852</td>\n",
              "      <td>-0.007175</td>\n",
              "      <td>0.001581</td>\n",
              "      <td>1.000000</td>\n",
              "      <td>0.002070</td>\n",
              "    </tr>\n",
              "    <tr>\n",
              "      <th>salary</th>\n",
              "      <td>-0.002792</td>\n",
              "      <td>0.006117</td>\n",
              "      <td>-0.005554</td>\n",
              "      <td>-0.001995</td>\n",
              "      <td>NaN</td>\n",
              "      <td>-0.008678</td>\n",
              "      <td>0.001538</td>\n",
              "      <td>0.005336</td>\n",
              "      <td>0.007771</td>\n",
              "      <td>0.000687</td>\n",
              "      <td>0.002070</td>\n",
              "      <td>1.000000</td>\n",
              "    </tr>\n",
              "  </tbody>\n",
              "</table>\n",
              "</div>\n",
              "    <div class=\"colab-df-buttons\">\n",
              "\n",
              "  <div class=\"colab-df-container\">\n",
              "    <button class=\"colab-df-convert\" onclick=\"convertToInteractive('df-ab81b25a-dd76-4240-858f-95ca2c209c2f')\"\n",
              "            title=\"Convert this dataframe to an interactive table.\"\n",
              "            style=\"display:none;\">\n",
              "\n",
              "  <svg xmlns=\"http://www.w3.org/2000/svg\" height=\"24px\" viewBox=\"0 -960 960 960\">\n",
              "    <path d=\"M120-120v-720h720v720H120Zm60-500h600v-160H180v160Zm220 220h160v-160H400v160Zm0 220h160v-160H400v160ZM180-400h160v-160H180v160Zm440 0h160v-160H620v160ZM180-180h160v-160H180v160Zm440 0h160v-160H620v160Z\"/>\n",
              "  </svg>\n",
              "    </button>\n",
              "\n",
              "  <style>\n",
              "    .colab-df-container {\n",
              "      display:flex;\n",
              "      gap: 12px;\n",
              "    }\n",
              "\n",
              "    .colab-df-convert {\n",
              "      background-color: #E8F0FE;\n",
              "      border: none;\n",
              "      border-radius: 50%;\n",
              "      cursor: pointer;\n",
              "      display: none;\n",
              "      fill: #1967D2;\n",
              "      height: 32px;\n",
              "      padding: 0 0 0 0;\n",
              "      width: 32px;\n",
              "    }\n",
              "\n",
              "    .colab-df-convert:hover {\n",
              "      background-color: #E2EBFA;\n",
              "      box-shadow: 0px 1px 2px rgba(60, 64, 67, 0.3), 0px 1px 3px 1px rgba(60, 64, 67, 0.15);\n",
              "      fill: #174EA6;\n",
              "    }\n",
              "\n",
              "    .colab-df-buttons div {\n",
              "      margin-bottom: 4px;\n",
              "    }\n",
              "\n",
              "    [theme=dark] .colab-df-convert {\n",
              "      background-color: #3B4455;\n",
              "      fill: #D2E3FC;\n",
              "    }\n",
              "\n",
              "    [theme=dark] .colab-df-convert:hover {\n",
              "      background-color: #434B5C;\n",
              "      box-shadow: 0px 1px 3px 1px rgba(0, 0, 0, 0.15);\n",
              "      filter: drop-shadow(0px 1px 2px rgba(0, 0, 0, 0.3));\n",
              "      fill: #FFFFFF;\n",
              "    }\n",
              "  </style>\n",
              "\n",
              "    <script>\n",
              "      const buttonEl =\n",
              "        document.querySelector('#df-ab81b25a-dd76-4240-858f-95ca2c209c2f button.colab-df-convert');\n",
              "      buttonEl.style.display =\n",
              "        google.colab.kernel.accessAllowed ? 'block' : 'none';\n",
              "\n",
              "      async function convertToInteractive(key) {\n",
              "        const element = document.querySelector('#df-ab81b25a-dd76-4240-858f-95ca2c209c2f');\n",
              "        const dataTable =\n",
              "          await google.colab.kernel.invokeFunction('convertToInteractive',\n",
              "                                                    [key], {});\n",
              "        if (!dataTable) return;\n",
              "\n",
              "        const docLinkHtml = 'Like what you see? Visit the ' +\n",
              "          '<a target=\"_blank\" href=https://colab.research.google.com/notebooks/data_table.ipynb>data table notebook</a>'\n",
              "          + ' to learn more about interactive tables.';\n",
              "        element.innerHTML = '';\n",
              "        dataTable['output_type'] = 'display_data';\n",
              "        await google.colab.output.renderOutput(dataTable, element);\n",
              "        const docLink = document.createElement('div');\n",
              "        docLink.innerHTML = docLinkHtml;\n",
              "        element.appendChild(docLink);\n",
              "      }\n",
              "    </script>\n",
              "  </div>\n",
              "\n",
              "\n",
              "<div id=\"df-fd5c76ee-6fae-4521-a2c4-64fbd50c3e31\">\n",
              "  <button class=\"colab-df-quickchart\" onclick=\"quickchart('df-fd5c76ee-6fae-4521-a2c4-64fbd50c3e31')\"\n",
              "            title=\"Suggest charts\"\n",
              "            style=\"display:none;\">\n",
              "\n",
              "<svg xmlns=\"http://www.w3.org/2000/svg\" height=\"24px\"viewBox=\"0 0 24 24\"\n",
              "     width=\"24px\">\n",
              "    <g>\n",
              "        <path d=\"M19 3H5c-1.1 0-2 .9-2 2v14c0 1.1.9 2 2 2h14c1.1 0 2-.9 2-2V5c0-1.1-.9-2-2-2zM9 17H7v-7h2v7zm4 0h-2V7h2v10zm4 0h-2v-4h2v4z\"/>\n",
              "    </g>\n",
              "</svg>\n",
              "  </button>\n",
              "\n",
              "<style>\n",
              "  .colab-df-quickchart {\n",
              "      --bg-color: #E8F0FE;\n",
              "      --fill-color: #1967D2;\n",
              "      --hover-bg-color: #E2EBFA;\n",
              "      --hover-fill-color: #174EA6;\n",
              "      --disabled-fill-color: #AAA;\n",
              "      --disabled-bg-color: #DDD;\n",
              "  }\n",
              "\n",
              "  [theme=dark] .colab-df-quickchart {\n",
              "      --bg-color: #3B4455;\n",
              "      --fill-color: #D2E3FC;\n",
              "      --hover-bg-color: #434B5C;\n",
              "      --hover-fill-color: #FFFFFF;\n",
              "      --disabled-bg-color: #3B4455;\n",
              "      --disabled-fill-color: #666;\n",
              "  }\n",
              "\n",
              "  .colab-df-quickchart {\n",
              "    background-color: var(--bg-color);\n",
              "    border: none;\n",
              "    border-radius: 50%;\n",
              "    cursor: pointer;\n",
              "    display: none;\n",
              "    fill: var(--fill-color);\n",
              "    height: 32px;\n",
              "    padding: 0;\n",
              "    width: 32px;\n",
              "  }\n",
              "\n",
              "  .colab-df-quickchart:hover {\n",
              "    background-color: var(--hover-bg-color);\n",
              "    box-shadow: 0 1px 2px rgba(60, 64, 67, 0.3), 0 1px 3px 1px rgba(60, 64, 67, 0.15);\n",
              "    fill: var(--button-hover-fill-color);\n",
              "  }\n",
              "\n",
              "  .colab-df-quickchart-complete:disabled,\n",
              "  .colab-df-quickchart-complete:disabled:hover {\n",
              "    background-color: var(--disabled-bg-color);\n",
              "    fill: var(--disabled-fill-color);\n",
              "    box-shadow: none;\n",
              "  }\n",
              "\n",
              "  .colab-df-spinner {\n",
              "    border: 2px solid var(--fill-color);\n",
              "    border-color: transparent;\n",
              "    border-bottom-color: var(--fill-color);\n",
              "    animation:\n",
              "      spin 1s steps(1) infinite;\n",
              "  }\n",
              "\n",
              "  @keyframes spin {\n",
              "    0% {\n",
              "      border-color: transparent;\n",
              "      border-bottom-color: var(--fill-color);\n",
              "      border-left-color: var(--fill-color);\n",
              "    }\n",
              "    20% {\n",
              "      border-color: transparent;\n",
              "      border-left-color: var(--fill-color);\n",
              "      border-top-color: var(--fill-color);\n",
              "    }\n",
              "    30% {\n",
              "      border-color: transparent;\n",
              "      border-left-color: var(--fill-color);\n",
              "      border-top-color: var(--fill-color);\n",
              "      border-right-color: var(--fill-color);\n",
              "    }\n",
              "    40% {\n",
              "      border-color: transparent;\n",
              "      border-right-color: var(--fill-color);\n",
              "      border-top-color: var(--fill-color);\n",
              "    }\n",
              "    60% {\n",
              "      border-color: transparent;\n",
              "      border-right-color: var(--fill-color);\n",
              "    }\n",
              "    80% {\n",
              "      border-color: transparent;\n",
              "      border-right-color: var(--fill-color);\n",
              "      border-bottom-color: var(--fill-color);\n",
              "    }\n",
              "    90% {\n",
              "      border-color: transparent;\n",
              "      border-bottom-color: var(--fill-color);\n",
              "    }\n",
              "  }\n",
              "</style>\n",
              "\n",
              "  <script>\n",
              "    async function quickchart(key) {\n",
              "      const quickchartButtonEl =\n",
              "        document.querySelector('#' + key + ' button');\n",
              "      quickchartButtonEl.disabled = true;  // To prevent multiple clicks.\n",
              "      quickchartButtonEl.classList.add('colab-df-spinner');\n",
              "      try {\n",
              "        const charts = await google.colab.kernel.invokeFunction(\n",
              "            'suggestCharts', [key], {});\n",
              "      } catch (error) {\n",
              "        console.error('Error during call to suggestCharts:', error);\n",
              "      }\n",
              "      quickchartButtonEl.classList.remove('colab-df-spinner');\n",
              "      quickchartButtonEl.classList.add('colab-df-quickchart-complete');\n",
              "    }\n",
              "    (() => {\n",
              "      let quickchartButtonEl =\n",
              "        document.querySelector('#df-fd5c76ee-6fae-4521-a2c4-64fbd50c3e31 button');\n",
              "      quickchartButtonEl.style.display =\n",
              "        google.colab.kernel.accessAllowed ? 'block' : 'none';\n",
              "    })();\n",
              "  </script>\n",
              "</div>\n",
              "\n",
              "  <div id=\"id_3427b417-5a64-48cf-a466-3eb2fa65de08\">\n",
              "    <style>\n",
              "      .colab-df-generate {\n",
              "        background-color: #E8F0FE;\n",
              "        border: none;\n",
              "        border-radius: 50%;\n",
              "        cursor: pointer;\n",
              "        display: none;\n",
              "        fill: #1967D2;\n",
              "        height: 32px;\n",
              "        padding: 0 0 0 0;\n",
              "        width: 32px;\n",
              "      }\n",
              "\n",
              "      .colab-df-generate:hover {\n",
              "        background-color: #E2EBFA;\n",
              "        box-shadow: 0px 1px 2px rgba(60, 64, 67, 0.3), 0px 1px 3px 1px rgba(60, 64, 67, 0.15);\n",
              "        fill: #174EA6;\n",
              "      }\n",
              "\n",
              "      [theme=dark] .colab-df-generate {\n",
              "        background-color: #3B4455;\n",
              "        fill: #D2E3FC;\n",
              "      }\n",
              "\n",
              "      [theme=dark] .colab-df-generate:hover {\n",
              "        background-color: #434B5C;\n",
              "        box-shadow: 0px 1px 3px 1px rgba(0, 0, 0, 0.15);\n",
              "        filter: drop-shadow(0px 1px 2px rgba(0, 0, 0, 0.3));\n",
              "        fill: #FFFFFF;\n",
              "      }\n",
              "    </style>\n",
              "    <button class=\"colab-df-generate\" onclick=\"generateWithVariable('corrMatrix')\"\n",
              "            title=\"Generate code using this dataframe.\"\n",
              "            style=\"display:none;\">\n",
              "\n",
              "  <svg xmlns=\"http://www.w3.org/2000/svg\" height=\"24px\"viewBox=\"0 0 24 24\"\n",
              "       width=\"24px\">\n",
              "    <path d=\"M7,19H8.4L18.45,9,17,7.55,7,17.6ZM5,21V16.75L18.45,3.32a2,2,0,0,1,2.83,0l1.4,1.43a1.91,1.91,0,0,1,.58,1.4,1.91,1.91,0,0,1-.58,1.4L9.25,21ZM18.45,9,17,7.55Zm-12,3A5.31,5.31,0,0,0,4.9,8.1,5.31,5.31,0,0,0,1,6.5,5.31,5.31,0,0,0,4.9,4.9,5.31,5.31,0,0,0,6.5,1,5.31,5.31,0,0,0,8.1,4.9,5.31,5.31,0,0,0,12,6.5,5.46,5.46,0,0,0,6.5,12Z\"/>\n",
              "  </svg>\n",
              "    </button>\n",
              "    <script>\n",
              "      (() => {\n",
              "      const buttonEl =\n",
              "        document.querySelector('#id_3427b417-5a64-48cf-a466-3eb2fa65de08 button.colab-df-generate');\n",
              "      buttonEl.style.display =\n",
              "        google.colab.kernel.accessAllowed ? 'block' : 'none';\n",
              "\n",
              "      buttonEl.onclick = () => {\n",
              "        google.colab.notebook.generateWithVariable('corrMatrix');\n",
              "      }\n",
              "      })();\n",
              "    </script>\n",
              "  </div>\n",
              "\n",
              "    </div>\n",
              "  </div>\n"
            ],
            "application/vnd.google.colaboratory.intrinsic+json": {
              "type": "dataframe",
              "variable_name": "corrMatrix",
              "summary": "{\n  \"name\": \"corrMatrix\",\n  \"rows\": 12,\n  \"fields\": [\n    {\n      \"column\": \"cust_id\",\n      \"properties\": {\n        \"dtype\": \"number\",\n        \"std\": 0.30614091248682557,\n        \"min\": -0.0663303183571344,\n        \"max\": 1.0,\n        \"num_unique_values\": 11,\n        \"samples\": [\n          -0.0663303183571344,\n          1.0,\n          0.016252503285117025\n        ],\n        \"semantic_type\": \"\",\n        \"description\": \"\"\n      }\n    },\n    {\n      \"column\": \" month_birth \",\n      \"properties\": {\n        \"dtype\": \"number\",\n        \"std\": 0.30105655038365686,\n        \"min\": -0.022193121236090463,\n        \"max\": 1.0,\n        \"num_unique_values\": 11,\n        \"samples\": [\n          0.009071692319614452,\n          -0.002358771977625248,\n          -0.0011498738319335332\n        ],\n        \"semantic_type\": \"\",\n        \"description\": \"\"\n      }\n    },\n    {\n      \"column\": \"dob\",\n      \"properties\": {\n        \"dtype\": \"number\",\n        \"std\": 0.3018806947098382,\n        \"min\": -0.007235110495896245,\n        \"max\": 1.0,\n        \"num_unique_values\": 11,\n        \"samples\": [\n          0.0018776894407111432,\n          -0.004903836361433368,\n          -0.0058667528409704454\n        ],\n        \"semantic_type\": \"\",\n        \"description\": \"\"\n      }\n    },\n    {\n      \"column\": \"year_birth\",\n      \"properties\": {\n        \"dtype\": \"number\",\n        \"std\": 0.3059687555365409,\n        \"min\": -0.044591046265201204,\n        \"max\": 1.0,\n        \"num_unique_values\": 11,\n        \"samples\": [\n          -0.03823229219521276,\n          -0.001130047171474343,\n          0.00366539867755597\n        ],\n        \"semantic_type\": \"\",\n        \"description\": \"\"\n      }\n    },\n    {\n      \"column\": \"Unnamed: 4\",\n      \"properties\": {\n        \"dtype\": \"number\",\n        \"std\": null,\n        \"min\": null,\n        \"max\": null,\n        \"num_unique_values\": 0,\n        \"samples\": [],\n        \"semantic_type\": \"\",\n        \"description\": \"\"\n      }\n    },\n    {\n      \"column\": \"country\",\n      \"properties\": {\n        \"dtype\": \"number\",\n        \"std\": 0.3710017646398547,\n        \"min\": -0.6145093348907443,\n        \"max\": 1.0,\n        \"num_unique_values\": 11,\n        \"samples\": [],\n        \"semantic_type\": \"\",\n        \"description\": \"\"\n      }\n    },\n    {\n      \"column\": \"times\",\n      \"properties\": {\n        \"dtype\": \"number\",\n        \"std\": 0.3067132018419845,\n        \"min\": -0.0663303183571344,\n        \"max\": 1.0,\n        \"num_unique_values\": 11,\n        \"samples\": [],\n        \"semantic_type\": \"\",\n        \"description\": \"\"\n      }\n    },\n    {\n      \"column\": \"cash_vs_card\",\n      \"properties\": {\n        \"dtype\": \"number\",\n        \"std\": 0.3051169772364328,\n        \"min\": -0.03413843446326514,\n        \"max\": 1.0,\n        \"num_unique_values\": 11,\n        \"samples\": [],\n        \"semantic_type\": \"\",\n        \"description\": \"\"\n      }\n    },\n    {\n      \"column\": \"pay_level\",\n      \"properties\": {\n        \"dtype\": \"number\",\n        \"std\": 0.3752993853080564,\n        \"min\": -0.6145093348907443,\n        \"max\": 1.0,\n        \"num_unique_values\": 11,\n        \"samples\": [],\n        \"semantic_type\": \"\",\n        \"description\": \"\"\n      }\n    },\n    {\n      \"column\": \"marital\",\n      \"properties\": {\n        \"dtype\": \"number\",\n        \"std\": 0.30169475492736963,\n        \"min\": -0.009533695703830473,\n        \"max\": 1.0,\n        \"num_unique_values\": 11,\n        \"samples\": [],\n        \"semantic_type\": \"\",\n        \"description\": \"\"\n      }\n    },\n    {\n      \"column\": \"level_edu\",\n      \"properties\": {\n        \"dtype\": \"number\",\n        \"std\": 0.3013001769243833,\n        \"min\": -0.007174694561312906,\n        \"max\": 1.0,\n        \"num_unique_values\": 11,\n        \"samples\": [],\n        \"semantic_type\": \"\",\n        \"description\": \"\"\n      }\n    },\n    {\n      \"column\": \"salary\",\n      \"properties\": {\n        \"dtype\": \"number\",\n        \"std\": 0.3014169605540145,\n        \"min\": -0.008678003682842366,\n        \"max\": 1.0,\n        \"num_unique_values\": 11,\n        \"samples\": [],\n        \"semantic_type\": \"\",\n        \"description\": \"\"\n      }\n    }\n  ]\n}"
            }
          },
          "metadata": {},
          "execution_count": 16
        }
      ]
    },
    {
      "cell_type": "markdown",
      "source": [
        "## Standarized"
      ],
      "metadata": {
        "id": "TJRM3zK8CN8O"
      }
    },
    {
      "cell_type": "code",
      "source": [
        "# Use StandardScaler() to normolize data around a mean of 0"
      ],
      "metadata": {
        "id": "1xpMP1W4CXO8"
      },
      "execution_count": 17,
      "outputs": []
    },
    {
      "cell_type": "markdown",
      "source": [
        "## Data Table Analysis"
      ],
      "metadata": {
        "id": "XXyHPRBuH1a-"
      }
    },
    {
      "cell_type": "code",
      "source": [
        "'''sns.set()\n",
        "sns.set_style('white')\n",
        "graph1=sns.histplot(data=df_im, x='age', bins='auto')#hue='species'\n",
        "graph1.set_title(\"Age Histogram\")'''"
      ],
      "metadata": {
        "id": "EJexlPsUICug",
        "outputId": "505b6090-b0d1-427f-8682-ab5e313120d0",
        "colab": {
          "base_uri": "https://localhost:8080/",
          "height": 36
        }
      },
      "execution_count": 18,
      "outputs": [
        {
          "output_type": "execute_result",
          "data": {
            "text/plain": [
              "'sns.set()\\nsns.set_style(\\'white\\')\\ngraph1=sns.histplot(data=df_im, x=\\'age\\', bins=\\'auto\\')#hue=\\'species\\'\\ngraph1.set_title(\"Age Histogram\")'"
            ],
            "application/vnd.google.colaboratory.intrinsic+json": {
              "type": "string"
            }
          },
          "metadata": {},
          "execution_count": 18
        }
      ]
    },
    {
      "cell_type": "code",
      "source": [
        "'''sns.set()\n",
        "sns.set_style('white')\n",
        "\n",
        "graph2 = sns.countplot(data=df_im, x='poutcome', hue='marital')\n",
        "\n",
        "# Create a FacetGrid for further customization\n",
        "facet_grid = sns.FacetGrid(df_im, row=\"contact\", col='marital', # row=\"education\"\n",
        "                            height=5, aspect=1)#col_wrap=2\n",
        "# Map the countplot onto the FacetGrid\n",
        "facet_grid.map(sns.countplot, \"poutcome\", order=df_im['poutcome'].unique())\n",
        "# Add a legend\n",
        "facet_grid.add_legend(title='Marital Status', bbox_to_anchor=(1, 1))\n",
        "# Set the overall title\n",
        "facet_grid.fig.suptitle(\"Response by Marital Status and Education\", y=1.02)\n",
        "facet_grid.set_titles(fontsize=25)\n",
        "plt.show()\n",
        "'''"
      ],
      "metadata": {
        "id": "-dHY04MBLIcs",
        "outputId": "cb256480-c026-443c-a0d3-44c61f17b41d",
        "colab": {
          "base_uri": "https://localhost:8080/",
          "height": 91
        }
      },
      "execution_count": 19,
      "outputs": [
        {
          "output_type": "execute_result",
          "data": {
            "text/plain": [
              "'sns.set()\\nsns.set_style(\\'white\\')\\n\\ngraph2 = sns.countplot(data=df_im, x=\\'poutcome\\', hue=\\'marital\\')\\n\\n# Create a FacetGrid for further customization\\nfacet_grid = sns.FacetGrid(df_im, row=\"contact\", col=\\'marital\\', # row=\"education\"\\n                            height=5, aspect=1)#col_wrap=2\\n# Map the countplot onto the FacetGrid\\nfacet_grid.map(sns.countplot, \"poutcome\", order=df_im[\\'poutcome\\'].unique())\\n# Add a legend\\nfacet_grid.add_legend(title=\\'Marital Status\\', bbox_to_anchor=(1, 1))\\n# Set the overall title\\nfacet_grid.fig.suptitle(\"Response by Marital Status and Education\", y=1.02)\\nfacet_grid.set_titles(fontsize=25)\\nplt.show()\\n'"
            ],
            "application/vnd.google.colaboratory.intrinsic+json": {
              "type": "string"
            }
          },
          "metadata": {},
          "execution_count": 19
        }
      ]
    },
    {
      "cell_type": "code",
      "source": [
        "#!pip install typing_extensions"
      ],
      "metadata": {
        "id": "AvT12kD0EV9Y"
      },
      "execution_count": 20,
      "outputs": []
    },
    {
      "cell_type": "code",
      "source": [
        "#from ydata_profiling import ProfileReport, compare"
      ],
      "metadata": {
        "id": "2JCuDAXYd3OY"
      },
      "execution_count": 21,
      "outputs": []
    },
    {
      "cell_type": "code",
      "source": [
        "'''report= ProfileReport(df=df_im, title=\"test\")\n",
        "report.to_notebook_iframe()'''"
      ],
      "metadata": {
        "id": "EuUcOrE7ffZe",
        "outputId": "c1838fd1-5dac-4092-b15d-48b31ff96a7e",
        "colab": {
          "base_uri": "https://localhost:8080/",
          "height": 36
        }
      },
      "execution_count": 22,
      "outputs": [
        {
          "output_type": "execute_result",
          "data": {
            "text/plain": [
              "'report= ProfileReport(df=df_im, title=\"test\")\\nreport.to_notebook_iframe()'"
            ],
            "application/vnd.google.colaboratory.intrinsic+json": {
              "type": "string"
            }
          },
          "metadata": {},
          "execution_count": 22
        }
      ]
    },
    {
      "cell_type": "markdown",
      "source": [
        "# Machine Learning Model\n",
        "\n",
        "\n"
      ],
      "metadata": {
        "id": "OfZZ1_7xouCL"
      }
    },
    {
      "cell_type": "code",
      "source": [
        "pd.set_option('display.max_columns', None)\n",
        "df_im.head(5)"
      ],
      "metadata": {
        "id": "MT2bAWG-Gs7B",
        "outputId": "3dc55a31-6a6c-40ba-aa99-bc67ea4a4a60",
        "colab": {
          "base_uri": "https://localhost:8080/",
          "height": 206
        }
      },
      "execution_count": 23,
      "outputs": [
        {
          "output_type": "execute_result",
          "data": {
            "text/plain": [
              "   cust_id   month_birth   dob  year_birth  Unnamed: 4  country  times  \\\n",
              "0        1              3   14        1994         NaN       10      4   \n",
              "1        2              5    6        1970         NaN        6      1   \n",
              "2        3              5   17        1973         NaN       10      1   \n",
              "3        4              5    9        1976         NaN        6      5   \n",
              "4        5              4   29        1989         NaN        6      1   \n",
              "\n",
              "   cash_vs_card  pay_level  marital  level_edu  salary  \n",
              "0             1          1        0          1  211637  \n",
              "1             1          3        1          1  129657  \n",
              "2             1          1        0          2  160686  \n",
              "3             1          3        0          0   86044  \n",
              "4             0          3        0          2  192280  "
            ],
            "text/html": [
              "\n",
              "  <div id=\"df-bf483cef-78e5-4b34-8c5c-d2b796ee1594\" class=\"colab-df-container\">\n",
              "    <div>\n",
              "<style scoped>\n",
              "    .dataframe tbody tr th:only-of-type {\n",
              "        vertical-align: middle;\n",
              "    }\n",
              "\n",
              "    .dataframe tbody tr th {\n",
              "        vertical-align: top;\n",
              "    }\n",
              "\n",
              "    .dataframe thead th {\n",
              "        text-align: right;\n",
              "    }\n",
              "</style>\n",
              "<table border=\"1\" class=\"dataframe\">\n",
              "  <thead>\n",
              "    <tr style=\"text-align: right;\">\n",
              "      <th></th>\n",
              "      <th>cust_id</th>\n",
              "      <th>month_birth</th>\n",
              "      <th>dob</th>\n",
              "      <th>year_birth</th>\n",
              "      <th>Unnamed: 4</th>\n",
              "      <th>country</th>\n",
              "      <th>times</th>\n",
              "      <th>cash_vs_card</th>\n",
              "      <th>pay_level</th>\n",
              "      <th>marital</th>\n",
              "      <th>level_edu</th>\n",
              "      <th>salary</th>\n",
              "    </tr>\n",
              "  </thead>\n",
              "  <tbody>\n",
              "    <tr>\n",
              "      <th>0</th>\n",
              "      <td>1</td>\n",
              "      <td>3</td>\n",
              "      <td>14</td>\n",
              "      <td>1994</td>\n",
              "      <td>NaN</td>\n",
              "      <td>10</td>\n",
              "      <td>4</td>\n",
              "      <td>1</td>\n",
              "      <td>1</td>\n",
              "      <td>0</td>\n",
              "      <td>1</td>\n",
              "      <td>211637</td>\n",
              "    </tr>\n",
              "    <tr>\n",
              "      <th>1</th>\n",
              "      <td>2</td>\n",
              "      <td>5</td>\n",
              "      <td>6</td>\n",
              "      <td>1970</td>\n",
              "      <td>NaN</td>\n",
              "      <td>6</td>\n",
              "      <td>1</td>\n",
              "      <td>1</td>\n",
              "      <td>3</td>\n",
              "      <td>1</td>\n",
              "      <td>1</td>\n",
              "      <td>129657</td>\n",
              "    </tr>\n",
              "    <tr>\n",
              "      <th>2</th>\n",
              "      <td>3</td>\n",
              "      <td>5</td>\n",
              "      <td>17</td>\n",
              "      <td>1973</td>\n",
              "      <td>NaN</td>\n",
              "      <td>10</td>\n",
              "      <td>1</td>\n",
              "      <td>1</td>\n",
              "      <td>1</td>\n",
              "      <td>0</td>\n",
              "      <td>2</td>\n",
              "      <td>160686</td>\n",
              "    </tr>\n",
              "    <tr>\n",
              "      <th>3</th>\n",
              "      <td>4</td>\n",
              "      <td>5</td>\n",
              "      <td>9</td>\n",
              "      <td>1976</td>\n",
              "      <td>NaN</td>\n",
              "      <td>6</td>\n",
              "      <td>5</td>\n",
              "      <td>1</td>\n",
              "      <td>3</td>\n",
              "      <td>0</td>\n",
              "      <td>0</td>\n",
              "      <td>86044</td>\n",
              "    </tr>\n",
              "    <tr>\n",
              "      <th>4</th>\n",
              "      <td>5</td>\n",
              "      <td>4</td>\n",
              "      <td>29</td>\n",
              "      <td>1989</td>\n",
              "      <td>NaN</td>\n",
              "      <td>6</td>\n",
              "      <td>1</td>\n",
              "      <td>0</td>\n",
              "      <td>3</td>\n",
              "      <td>0</td>\n",
              "      <td>2</td>\n",
              "      <td>192280</td>\n",
              "    </tr>\n",
              "  </tbody>\n",
              "</table>\n",
              "</div>\n",
              "    <div class=\"colab-df-buttons\">\n",
              "\n",
              "  <div class=\"colab-df-container\">\n",
              "    <button class=\"colab-df-convert\" onclick=\"convertToInteractive('df-bf483cef-78e5-4b34-8c5c-d2b796ee1594')\"\n",
              "            title=\"Convert this dataframe to an interactive table.\"\n",
              "            style=\"display:none;\">\n",
              "\n",
              "  <svg xmlns=\"http://www.w3.org/2000/svg\" height=\"24px\" viewBox=\"0 -960 960 960\">\n",
              "    <path d=\"M120-120v-720h720v720H120Zm60-500h600v-160H180v160Zm220 220h160v-160H400v160Zm0 220h160v-160H400v160ZM180-400h160v-160H180v160Zm440 0h160v-160H620v160ZM180-180h160v-160H180v160Zm440 0h160v-160H620v160Z\"/>\n",
              "  </svg>\n",
              "    </button>\n",
              "\n",
              "  <style>\n",
              "    .colab-df-container {\n",
              "      display:flex;\n",
              "      gap: 12px;\n",
              "    }\n",
              "\n",
              "    .colab-df-convert {\n",
              "      background-color: #E8F0FE;\n",
              "      border: none;\n",
              "      border-radius: 50%;\n",
              "      cursor: pointer;\n",
              "      display: none;\n",
              "      fill: #1967D2;\n",
              "      height: 32px;\n",
              "      padding: 0 0 0 0;\n",
              "      width: 32px;\n",
              "    }\n",
              "\n",
              "    .colab-df-convert:hover {\n",
              "      background-color: #E2EBFA;\n",
              "      box-shadow: 0px 1px 2px rgba(60, 64, 67, 0.3), 0px 1px 3px 1px rgba(60, 64, 67, 0.15);\n",
              "      fill: #174EA6;\n",
              "    }\n",
              "\n",
              "    .colab-df-buttons div {\n",
              "      margin-bottom: 4px;\n",
              "    }\n",
              "\n",
              "    [theme=dark] .colab-df-convert {\n",
              "      background-color: #3B4455;\n",
              "      fill: #D2E3FC;\n",
              "    }\n",
              "\n",
              "    [theme=dark] .colab-df-convert:hover {\n",
              "      background-color: #434B5C;\n",
              "      box-shadow: 0px 1px 3px 1px rgba(0, 0, 0, 0.15);\n",
              "      filter: drop-shadow(0px 1px 2px rgba(0, 0, 0, 0.3));\n",
              "      fill: #FFFFFF;\n",
              "    }\n",
              "  </style>\n",
              "\n",
              "    <script>\n",
              "      const buttonEl =\n",
              "        document.querySelector('#df-bf483cef-78e5-4b34-8c5c-d2b796ee1594 button.colab-df-convert');\n",
              "      buttonEl.style.display =\n",
              "        google.colab.kernel.accessAllowed ? 'block' : 'none';\n",
              "\n",
              "      async function convertToInteractive(key) {\n",
              "        const element = document.querySelector('#df-bf483cef-78e5-4b34-8c5c-d2b796ee1594');\n",
              "        const dataTable =\n",
              "          await google.colab.kernel.invokeFunction('convertToInteractive',\n",
              "                                                    [key], {});\n",
              "        if (!dataTable) return;\n",
              "\n",
              "        const docLinkHtml = 'Like what you see? Visit the ' +\n",
              "          '<a target=\"_blank\" href=https://colab.research.google.com/notebooks/data_table.ipynb>data table notebook</a>'\n",
              "          + ' to learn more about interactive tables.';\n",
              "        element.innerHTML = '';\n",
              "        dataTable['output_type'] = 'display_data';\n",
              "        await google.colab.output.renderOutput(dataTable, element);\n",
              "        const docLink = document.createElement('div');\n",
              "        docLink.innerHTML = docLinkHtml;\n",
              "        element.appendChild(docLink);\n",
              "      }\n",
              "    </script>\n",
              "  </div>\n",
              "\n",
              "\n",
              "<div id=\"df-1d88d047-4b85-4f54-8bd1-7d83ebe23251\">\n",
              "  <button class=\"colab-df-quickchart\" onclick=\"quickchart('df-1d88d047-4b85-4f54-8bd1-7d83ebe23251')\"\n",
              "            title=\"Suggest charts\"\n",
              "            style=\"display:none;\">\n",
              "\n",
              "<svg xmlns=\"http://www.w3.org/2000/svg\" height=\"24px\"viewBox=\"0 0 24 24\"\n",
              "     width=\"24px\">\n",
              "    <g>\n",
              "        <path d=\"M19 3H5c-1.1 0-2 .9-2 2v14c0 1.1.9 2 2 2h14c1.1 0 2-.9 2-2V5c0-1.1-.9-2-2-2zM9 17H7v-7h2v7zm4 0h-2V7h2v10zm4 0h-2v-4h2v4z\"/>\n",
              "    </g>\n",
              "</svg>\n",
              "  </button>\n",
              "\n",
              "<style>\n",
              "  .colab-df-quickchart {\n",
              "      --bg-color: #E8F0FE;\n",
              "      --fill-color: #1967D2;\n",
              "      --hover-bg-color: #E2EBFA;\n",
              "      --hover-fill-color: #174EA6;\n",
              "      --disabled-fill-color: #AAA;\n",
              "      --disabled-bg-color: #DDD;\n",
              "  }\n",
              "\n",
              "  [theme=dark] .colab-df-quickchart {\n",
              "      --bg-color: #3B4455;\n",
              "      --fill-color: #D2E3FC;\n",
              "      --hover-bg-color: #434B5C;\n",
              "      --hover-fill-color: #FFFFFF;\n",
              "      --disabled-bg-color: #3B4455;\n",
              "      --disabled-fill-color: #666;\n",
              "  }\n",
              "\n",
              "  .colab-df-quickchart {\n",
              "    background-color: var(--bg-color);\n",
              "    border: none;\n",
              "    border-radius: 50%;\n",
              "    cursor: pointer;\n",
              "    display: none;\n",
              "    fill: var(--fill-color);\n",
              "    height: 32px;\n",
              "    padding: 0;\n",
              "    width: 32px;\n",
              "  }\n",
              "\n",
              "  .colab-df-quickchart:hover {\n",
              "    background-color: var(--hover-bg-color);\n",
              "    box-shadow: 0 1px 2px rgba(60, 64, 67, 0.3), 0 1px 3px 1px rgba(60, 64, 67, 0.15);\n",
              "    fill: var(--button-hover-fill-color);\n",
              "  }\n",
              "\n",
              "  .colab-df-quickchart-complete:disabled,\n",
              "  .colab-df-quickchart-complete:disabled:hover {\n",
              "    background-color: var(--disabled-bg-color);\n",
              "    fill: var(--disabled-fill-color);\n",
              "    box-shadow: none;\n",
              "  }\n",
              "\n",
              "  .colab-df-spinner {\n",
              "    border: 2px solid var(--fill-color);\n",
              "    border-color: transparent;\n",
              "    border-bottom-color: var(--fill-color);\n",
              "    animation:\n",
              "      spin 1s steps(1) infinite;\n",
              "  }\n",
              "\n",
              "  @keyframes spin {\n",
              "    0% {\n",
              "      border-color: transparent;\n",
              "      border-bottom-color: var(--fill-color);\n",
              "      border-left-color: var(--fill-color);\n",
              "    }\n",
              "    20% {\n",
              "      border-color: transparent;\n",
              "      border-left-color: var(--fill-color);\n",
              "      border-top-color: var(--fill-color);\n",
              "    }\n",
              "    30% {\n",
              "      border-color: transparent;\n",
              "      border-left-color: var(--fill-color);\n",
              "      border-top-color: var(--fill-color);\n",
              "      border-right-color: var(--fill-color);\n",
              "    }\n",
              "    40% {\n",
              "      border-color: transparent;\n",
              "      border-right-color: var(--fill-color);\n",
              "      border-top-color: var(--fill-color);\n",
              "    }\n",
              "    60% {\n",
              "      border-color: transparent;\n",
              "      border-right-color: var(--fill-color);\n",
              "    }\n",
              "    80% {\n",
              "      border-color: transparent;\n",
              "      border-right-color: var(--fill-color);\n",
              "      border-bottom-color: var(--fill-color);\n",
              "    }\n",
              "    90% {\n",
              "      border-color: transparent;\n",
              "      border-bottom-color: var(--fill-color);\n",
              "    }\n",
              "  }\n",
              "</style>\n",
              "\n",
              "  <script>\n",
              "    async function quickchart(key) {\n",
              "      const quickchartButtonEl =\n",
              "        document.querySelector('#' + key + ' button');\n",
              "      quickchartButtonEl.disabled = true;  // To prevent multiple clicks.\n",
              "      quickchartButtonEl.classList.add('colab-df-spinner');\n",
              "      try {\n",
              "        const charts = await google.colab.kernel.invokeFunction(\n",
              "            'suggestCharts', [key], {});\n",
              "      } catch (error) {\n",
              "        console.error('Error during call to suggestCharts:', error);\n",
              "      }\n",
              "      quickchartButtonEl.classList.remove('colab-df-spinner');\n",
              "      quickchartButtonEl.classList.add('colab-df-quickchart-complete');\n",
              "    }\n",
              "    (() => {\n",
              "      let quickchartButtonEl =\n",
              "        document.querySelector('#df-1d88d047-4b85-4f54-8bd1-7d83ebe23251 button');\n",
              "      quickchartButtonEl.style.display =\n",
              "        google.colab.kernel.accessAllowed ? 'block' : 'none';\n",
              "    })();\n",
              "  </script>\n",
              "</div>\n",
              "\n",
              "    </div>\n",
              "  </div>\n"
            ],
            "application/vnd.google.colaboratory.intrinsic+json": {
              "type": "dataframe",
              "variable_name": "df_im",
              "summary": "{\n  \"name\": \"df_im\",\n  \"rows\": 49512,\n  \"fields\": [\n    {\n      \"column\": \"cust_id\",\n      \"properties\": {\n        \"dtype\": \"number\",\n        \"std\": 14609,\n        \"min\": 1,\n        \"max\": 230289,\n        \"num_unique_values\": 49512,\n        \"samples\": [\n          24966,\n          27805,\n          40461\n        ],\n        \"semantic_type\": \"\",\n        \"description\": \"\"\n      }\n    },\n    {\n      \"column\": \" month_birth \",\n      \"properties\": {\n        \"dtype\": \"number\",\n        \"std\": 3,\n        \"min\": 1,\n        \"max\": 12,\n        \"num_unique_values\": 12,\n        \"samples\": [\n          6,\n          8,\n          3\n        ],\n        \"semantic_type\": \"\",\n        \"description\": \"\"\n      }\n    },\n    {\n      \"column\": \"dob\",\n      \"properties\": {\n        \"dtype\": \"number\",\n        \"std\": 8,\n        \"min\": 1,\n        \"max\": 31,\n        \"num_unique_values\": 31,\n        \"samples\": [\n          27,\n          22,\n          10\n        ],\n        \"semantic_type\": \"\",\n        \"description\": \"\"\n      }\n    },\n    {\n      \"column\": \"year_birth\",\n      \"properties\": {\n        \"dtype\": \"number\",\n        \"std\": 12,\n        \"min\": 1911,\n        \"max\": 2004,\n        \"num_unique_values\": 89,\n        \"samples\": [\n          1983,\n          1954,\n          1965\n        ],\n        \"semantic_type\": \"\",\n        \"description\": \"\"\n      }\n    },\n    {\n      \"column\": \"Unnamed: 4\",\n      \"properties\": {\n        \"dtype\": \"number\",\n        \"std\": null,\n        \"min\": null,\n        \"max\": null,\n        \"num_unique_values\": 0,\n        \"samples\": [],\n        \"semantic_type\": \"\",\n        \"description\": \"\"\n      }\n    },\n    {\n      \"column\": \"country\",\n      \"properties\": {\n        \"dtype\": \"int8\",\n        \"num_unique_values\": 11,\n        \"samples\": [],\n        \"semantic_type\": \"\",\n        \"description\": \"\"\n      }\n    },\n    {\n      \"column\": \"times\",\n      \"properties\": {\n        \"dtype\": \"number\",\n        \"std\": 11,\n        \"min\": 1,\n        \"max\": 425,\n        \"num_unique_values\": 168,\n        \"samples\": [],\n        \"semantic_type\": \"\",\n        \"description\": \"\"\n      }\n    },\n    {\n      \"column\": \"cash_vs_card\",\n      \"properties\": {\n        \"dtype\": \"int8\",\n        \"num_unique_values\": 3,\n        \"samples\": [],\n        \"semantic_type\": \"\",\n        \"description\": \"\"\n      }\n    },\n    {\n      \"column\": \"pay_level\",\n      \"properties\": {\n        \"dtype\": \"number\",\n        \"std\": 0,\n        \"min\": 1,\n        \"max\": 3,\n        \"num_unique_values\": 3,\n        \"samples\": [],\n        \"semantic_type\": \"\",\n        \"description\": \"\"\n      }\n    },\n    {\n      \"column\": \"marital\",\n      \"properties\": {\n        \"dtype\": \"int8\",\n        \"num_unique_values\": 2,\n        \"samples\": [],\n        \"semantic_type\": \"\",\n        \"description\": \"\"\n      }\n    },\n    {\n      \"column\": \"level_edu\",\n      \"properties\": {\n        \"dtype\": \"int8\",\n        \"num_unique_values\": 4,\n        \"samples\": [],\n        \"semantic_type\": \"\",\n        \"description\": \"\"\n      }\n    },\n    {\n      \"column\": \"salary\",\n      \"properties\": {\n        \"dtype\": \"number\",\n        \"std\": 57519,\n        \"min\": 50000,\n        \"max\": 249996,\n        \"num_unique_values\": 43768,\n        \"samples\": [],\n        \"semantic_type\": \"\",\n        \"description\": \"\"\n      }\n    }\n  ]\n}"
            }
          },
          "metadata": {},
          "execution_count": 23
        }
      ]
    },
    {
      "cell_type": "code",
      "source": [
        "df_im.columns"
      ],
      "metadata": {
        "id": "uW72vg-6GUE8",
        "outputId": "9ca4ec20-9cac-4896-d923-a232cceff62c",
        "colab": {
          "base_uri": "https://localhost:8080/"
        }
      },
      "execution_count": 24,
      "outputs": [
        {
          "output_type": "execute_result",
          "data": {
            "text/plain": [
              "Index(['cust_id', ' month_birth ', 'dob', 'year_birth', 'Unnamed: 4',\n",
              "       'country', 'times', 'cash_vs_card', 'pay_level', 'marital', 'level_edu',\n",
              "       'salary'],\n",
              "      dtype='object')"
            ]
          },
          "metadata": {},
          "execution_count": 24
        }
      ]
    },
    {
      "cell_type": "code",
      "source": [
        "# Create a new dataframe called X that contians the features we're going\n",
        "# to use to make predictions\n",
        "X = df_im[['cust_id', ' month_birth ', 'dob', 'year_birth',\n",
        "       'country', 'times', 'cash_vs_card', 'marital', 'level_edu',\n",
        "       'salary']]\n",
        "X.head(5)"
      ],
      "metadata": {
        "id": "Tn9kxjUCo0mx",
        "outputId": "b5637b6d-2558-450f-aaa6-5a6a1007e4a6",
        "colab": {
          "base_uri": "https://localhost:8080/",
          "height": 206
        }
      },
      "execution_count": 25,
      "outputs": [
        {
          "output_type": "execute_result",
          "data": {
            "text/plain": [
              "   cust_id   month_birth   dob  year_birth  country  times  cash_vs_card  \\\n",
              "0        1              3   14        1994       10      4             1   \n",
              "1        2              5    6        1970        6      1             1   \n",
              "2        3              5   17        1973       10      1             1   \n",
              "3        4              5    9        1976        6      5             1   \n",
              "4        5              4   29        1989        6      1             0   \n",
              "\n",
              "   marital  level_edu  salary  \n",
              "0        0          1  211637  \n",
              "1        1          1  129657  \n",
              "2        0          2  160686  \n",
              "3        0          0   86044  \n",
              "4        0          2  192280  "
            ],
            "text/html": [
              "\n",
              "  <div id=\"df-9443cbde-8b22-4e0e-9dfa-663916054eab\" class=\"colab-df-container\">\n",
              "    <div>\n",
              "<style scoped>\n",
              "    .dataframe tbody tr th:only-of-type {\n",
              "        vertical-align: middle;\n",
              "    }\n",
              "\n",
              "    .dataframe tbody tr th {\n",
              "        vertical-align: top;\n",
              "    }\n",
              "\n",
              "    .dataframe thead th {\n",
              "        text-align: right;\n",
              "    }\n",
              "</style>\n",
              "<table border=\"1\" class=\"dataframe\">\n",
              "  <thead>\n",
              "    <tr style=\"text-align: right;\">\n",
              "      <th></th>\n",
              "      <th>cust_id</th>\n",
              "      <th>month_birth</th>\n",
              "      <th>dob</th>\n",
              "      <th>year_birth</th>\n",
              "      <th>country</th>\n",
              "      <th>times</th>\n",
              "      <th>cash_vs_card</th>\n",
              "      <th>marital</th>\n",
              "      <th>level_edu</th>\n",
              "      <th>salary</th>\n",
              "    </tr>\n",
              "  </thead>\n",
              "  <tbody>\n",
              "    <tr>\n",
              "      <th>0</th>\n",
              "      <td>1</td>\n",
              "      <td>3</td>\n",
              "      <td>14</td>\n",
              "      <td>1994</td>\n",
              "      <td>10</td>\n",
              "      <td>4</td>\n",
              "      <td>1</td>\n",
              "      <td>0</td>\n",
              "      <td>1</td>\n",
              "      <td>211637</td>\n",
              "    </tr>\n",
              "    <tr>\n",
              "      <th>1</th>\n",
              "      <td>2</td>\n",
              "      <td>5</td>\n",
              "      <td>6</td>\n",
              "      <td>1970</td>\n",
              "      <td>6</td>\n",
              "      <td>1</td>\n",
              "      <td>1</td>\n",
              "      <td>1</td>\n",
              "      <td>1</td>\n",
              "      <td>129657</td>\n",
              "    </tr>\n",
              "    <tr>\n",
              "      <th>2</th>\n",
              "      <td>3</td>\n",
              "      <td>5</td>\n",
              "      <td>17</td>\n",
              "      <td>1973</td>\n",
              "      <td>10</td>\n",
              "      <td>1</td>\n",
              "      <td>1</td>\n",
              "      <td>0</td>\n",
              "      <td>2</td>\n",
              "      <td>160686</td>\n",
              "    </tr>\n",
              "    <tr>\n",
              "      <th>3</th>\n",
              "      <td>4</td>\n",
              "      <td>5</td>\n",
              "      <td>9</td>\n",
              "      <td>1976</td>\n",
              "      <td>6</td>\n",
              "      <td>5</td>\n",
              "      <td>1</td>\n",
              "      <td>0</td>\n",
              "      <td>0</td>\n",
              "      <td>86044</td>\n",
              "    </tr>\n",
              "    <tr>\n",
              "      <th>4</th>\n",
              "      <td>5</td>\n",
              "      <td>4</td>\n",
              "      <td>29</td>\n",
              "      <td>1989</td>\n",
              "      <td>6</td>\n",
              "      <td>1</td>\n",
              "      <td>0</td>\n",
              "      <td>0</td>\n",
              "      <td>2</td>\n",
              "      <td>192280</td>\n",
              "    </tr>\n",
              "  </tbody>\n",
              "</table>\n",
              "</div>\n",
              "    <div class=\"colab-df-buttons\">\n",
              "\n",
              "  <div class=\"colab-df-container\">\n",
              "    <button class=\"colab-df-convert\" onclick=\"convertToInteractive('df-9443cbde-8b22-4e0e-9dfa-663916054eab')\"\n",
              "            title=\"Convert this dataframe to an interactive table.\"\n",
              "            style=\"display:none;\">\n",
              "\n",
              "  <svg xmlns=\"http://www.w3.org/2000/svg\" height=\"24px\" viewBox=\"0 -960 960 960\">\n",
              "    <path d=\"M120-120v-720h720v720H120Zm60-500h600v-160H180v160Zm220 220h160v-160H400v160Zm0 220h160v-160H400v160ZM180-400h160v-160H180v160Zm440 0h160v-160H620v160ZM180-180h160v-160H180v160Zm440 0h160v-160H620v160Z\"/>\n",
              "  </svg>\n",
              "    </button>\n",
              "\n",
              "  <style>\n",
              "    .colab-df-container {\n",
              "      display:flex;\n",
              "      gap: 12px;\n",
              "    }\n",
              "\n",
              "    .colab-df-convert {\n",
              "      background-color: #E8F0FE;\n",
              "      border: none;\n",
              "      border-radius: 50%;\n",
              "      cursor: pointer;\n",
              "      display: none;\n",
              "      fill: #1967D2;\n",
              "      height: 32px;\n",
              "      padding: 0 0 0 0;\n",
              "      width: 32px;\n",
              "    }\n",
              "\n",
              "    .colab-df-convert:hover {\n",
              "      background-color: #E2EBFA;\n",
              "      box-shadow: 0px 1px 2px rgba(60, 64, 67, 0.3), 0px 1px 3px 1px rgba(60, 64, 67, 0.15);\n",
              "      fill: #174EA6;\n",
              "    }\n",
              "\n",
              "    .colab-df-buttons div {\n",
              "      margin-bottom: 4px;\n",
              "    }\n",
              "\n",
              "    [theme=dark] .colab-df-convert {\n",
              "      background-color: #3B4455;\n",
              "      fill: #D2E3FC;\n",
              "    }\n",
              "\n",
              "    [theme=dark] .colab-df-convert:hover {\n",
              "      background-color: #434B5C;\n",
              "      box-shadow: 0px 1px 3px 1px rgba(0, 0, 0, 0.15);\n",
              "      filter: drop-shadow(0px 1px 2px rgba(0, 0, 0, 0.3));\n",
              "      fill: #FFFFFF;\n",
              "    }\n",
              "  </style>\n",
              "\n",
              "    <script>\n",
              "      const buttonEl =\n",
              "        document.querySelector('#df-9443cbde-8b22-4e0e-9dfa-663916054eab button.colab-df-convert');\n",
              "      buttonEl.style.display =\n",
              "        google.colab.kernel.accessAllowed ? 'block' : 'none';\n",
              "\n",
              "      async function convertToInteractive(key) {\n",
              "        const element = document.querySelector('#df-9443cbde-8b22-4e0e-9dfa-663916054eab');\n",
              "        const dataTable =\n",
              "          await google.colab.kernel.invokeFunction('convertToInteractive',\n",
              "                                                    [key], {});\n",
              "        if (!dataTable) return;\n",
              "\n",
              "        const docLinkHtml = 'Like what you see? Visit the ' +\n",
              "          '<a target=\"_blank\" href=https://colab.research.google.com/notebooks/data_table.ipynb>data table notebook</a>'\n",
              "          + ' to learn more about interactive tables.';\n",
              "        element.innerHTML = '';\n",
              "        dataTable['output_type'] = 'display_data';\n",
              "        await google.colab.output.renderOutput(dataTable, element);\n",
              "        const docLink = document.createElement('div');\n",
              "        docLink.innerHTML = docLinkHtml;\n",
              "        element.appendChild(docLink);\n",
              "      }\n",
              "    </script>\n",
              "  </div>\n",
              "\n",
              "\n",
              "<div id=\"df-c2872c09-1fb5-4e77-ab71-b0d4b278017e\">\n",
              "  <button class=\"colab-df-quickchart\" onclick=\"quickchart('df-c2872c09-1fb5-4e77-ab71-b0d4b278017e')\"\n",
              "            title=\"Suggest charts\"\n",
              "            style=\"display:none;\">\n",
              "\n",
              "<svg xmlns=\"http://www.w3.org/2000/svg\" height=\"24px\"viewBox=\"0 0 24 24\"\n",
              "     width=\"24px\">\n",
              "    <g>\n",
              "        <path d=\"M19 3H5c-1.1 0-2 .9-2 2v14c0 1.1.9 2 2 2h14c1.1 0 2-.9 2-2V5c0-1.1-.9-2-2-2zM9 17H7v-7h2v7zm4 0h-2V7h2v10zm4 0h-2v-4h2v4z\"/>\n",
              "    </g>\n",
              "</svg>\n",
              "  </button>\n",
              "\n",
              "<style>\n",
              "  .colab-df-quickchart {\n",
              "      --bg-color: #E8F0FE;\n",
              "      --fill-color: #1967D2;\n",
              "      --hover-bg-color: #E2EBFA;\n",
              "      --hover-fill-color: #174EA6;\n",
              "      --disabled-fill-color: #AAA;\n",
              "      --disabled-bg-color: #DDD;\n",
              "  }\n",
              "\n",
              "  [theme=dark] .colab-df-quickchart {\n",
              "      --bg-color: #3B4455;\n",
              "      --fill-color: #D2E3FC;\n",
              "      --hover-bg-color: #434B5C;\n",
              "      --hover-fill-color: #FFFFFF;\n",
              "      --disabled-bg-color: #3B4455;\n",
              "      --disabled-fill-color: #666;\n",
              "  }\n",
              "\n",
              "  .colab-df-quickchart {\n",
              "    background-color: var(--bg-color);\n",
              "    border: none;\n",
              "    border-radius: 50%;\n",
              "    cursor: pointer;\n",
              "    display: none;\n",
              "    fill: var(--fill-color);\n",
              "    height: 32px;\n",
              "    padding: 0;\n",
              "    width: 32px;\n",
              "  }\n",
              "\n",
              "  .colab-df-quickchart:hover {\n",
              "    background-color: var(--hover-bg-color);\n",
              "    box-shadow: 0 1px 2px rgba(60, 64, 67, 0.3), 0 1px 3px 1px rgba(60, 64, 67, 0.15);\n",
              "    fill: var(--button-hover-fill-color);\n",
              "  }\n",
              "\n",
              "  .colab-df-quickchart-complete:disabled,\n",
              "  .colab-df-quickchart-complete:disabled:hover {\n",
              "    background-color: var(--disabled-bg-color);\n",
              "    fill: var(--disabled-fill-color);\n",
              "    box-shadow: none;\n",
              "  }\n",
              "\n",
              "  .colab-df-spinner {\n",
              "    border: 2px solid var(--fill-color);\n",
              "    border-color: transparent;\n",
              "    border-bottom-color: var(--fill-color);\n",
              "    animation:\n",
              "      spin 1s steps(1) infinite;\n",
              "  }\n",
              "\n",
              "  @keyframes spin {\n",
              "    0% {\n",
              "      border-color: transparent;\n",
              "      border-bottom-color: var(--fill-color);\n",
              "      border-left-color: var(--fill-color);\n",
              "    }\n",
              "    20% {\n",
              "      border-color: transparent;\n",
              "      border-left-color: var(--fill-color);\n",
              "      border-top-color: var(--fill-color);\n",
              "    }\n",
              "    30% {\n",
              "      border-color: transparent;\n",
              "      border-left-color: var(--fill-color);\n",
              "      border-top-color: var(--fill-color);\n",
              "      border-right-color: var(--fill-color);\n",
              "    }\n",
              "    40% {\n",
              "      border-color: transparent;\n",
              "      border-right-color: var(--fill-color);\n",
              "      border-top-color: var(--fill-color);\n",
              "    }\n",
              "    60% {\n",
              "      border-color: transparent;\n",
              "      border-right-color: var(--fill-color);\n",
              "    }\n",
              "    80% {\n",
              "      border-color: transparent;\n",
              "      border-right-color: var(--fill-color);\n",
              "      border-bottom-color: var(--fill-color);\n",
              "    }\n",
              "    90% {\n",
              "      border-color: transparent;\n",
              "      border-bottom-color: var(--fill-color);\n",
              "    }\n",
              "  }\n",
              "</style>\n",
              "\n",
              "  <script>\n",
              "    async function quickchart(key) {\n",
              "      const quickchartButtonEl =\n",
              "        document.querySelector('#' + key + ' button');\n",
              "      quickchartButtonEl.disabled = true;  // To prevent multiple clicks.\n",
              "      quickchartButtonEl.classList.add('colab-df-spinner');\n",
              "      try {\n",
              "        const charts = await google.colab.kernel.invokeFunction(\n",
              "            'suggestCharts', [key], {});\n",
              "      } catch (error) {\n",
              "        console.error('Error during call to suggestCharts:', error);\n",
              "      }\n",
              "      quickchartButtonEl.classList.remove('colab-df-spinner');\n",
              "      quickchartButtonEl.classList.add('colab-df-quickchart-complete');\n",
              "    }\n",
              "    (() => {\n",
              "      let quickchartButtonEl =\n",
              "        document.querySelector('#df-c2872c09-1fb5-4e77-ab71-b0d4b278017e button');\n",
              "      quickchartButtonEl.style.display =\n",
              "        google.colab.kernel.accessAllowed ? 'block' : 'none';\n",
              "    })();\n",
              "  </script>\n",
              "</div>\n",
              "\n",
              "    </div>\n",
              "  </div>\n"
            ],
            "application/vnd.google.colaboratory.intrinsic+json": {
              "type": "dataframe",
              "variable_name": "X",
              "summary": "{\n  \"name\": \"X\",\n  \"rows\": 49512,\n  \"fields\": [\n    {\n      \"column\": \"cust_id\",\n      \"properties\": {\n        \"dtype\": \"number\",\n        \"std\": 14609,\n        \"min\": 1,\n        \"max\": 230289,\n        \"num_unique_values\": 49512,\n        \"samples\": [\n          24966,\n          27805,\n          40461\n        ],\n        \"semantic_type\": \"\",\n        \"description\": \"\"\n      }\n    },\n    {\n      \"column\": \" month_birth \",\n      \"properties\": {\n        \"dtype\": \"number\",\n        \"std\": 3,\n        \"min\": 1,\n        \"max\": 12,\n        \"num_unique_values\": 12,\n        \"samples\": [\n          6,\n          8,\n          3\n        ],\n        \"semantic_type\": \"\",\n        \"description\": \"\"\n      }\n    },\n    {\n      \"column\": \"dob\",\n      \"properties\": {\n        \"dtype\": \"number\",\n        \"std\": 8,\n        \"min\": 1,\n        \"max\": 31,\n        \"num_unique_values\": 31,\n        \"samples\": [\n          27,\n          22,\n          10\n        ],\n        \"semantic_type\": \"\",\n        \"description\": \"\"\n      }\n    },\n    {\n      \"column\": \"year_birth\",\n      \"properties\": {\n        \"dtype\": \"number\",\n        \"std\": 12,\n        \"min\": 1911,\n        \"max\": 2004,\n        \"num_unique_values\": 89,\n        \"samples\": [\n          1983,\n          1954,\n          1965\n        ],\n        \"semantic_type\": \"\",\n        \"description\": \"\"\n      }\n    },\n    {\n      \"column\": \"country\",\n      \"properties\": {\n        \"dtype\": \"int8\",\n        \"num_unique_values\": 11,\n        \"samples\": [\n          9,\n          10,\n          7\n        ],\n        \"semantic_type\": \"\",\n        \"description\": \"\"\n      }\n    },\n    {\n      \"column\": \"times\",\n      \"properties\": {\n        \"dtype\": \"number\",\n        \"std\": 11,\n        \"min\": 1,\n        \"max\": 425,\n        \"num_unique_values\": 168,\n        \"samples\": [\n          47,\n          29,\n          116\n        ],\n        \"semantic_type\": \"\",\n        \"description\": \"\"\n      }\n    },\n    {\n      \"column\": \"cash_vs_card\",\n      \"properties\": {\n        \"dtype\": \"int8\",\n        \"num_unique_values\": 3,\n        \"samples\": [\n          1,\n          0,\n          2\n        ],\n        \"semantic_type\": \"\",\n        \"description\": \"\"\n      }\n    },\n    {\n      \"column\": \"marital\",\n      \"properties\": {\n        \"dtype\": \"int8\",\n        \"num_unique_values\": 2,\n        \"samples\": [\n          1,\n          0\n        ],\n        \"semantic_type\": \"\",\n        \"description\": \"\"\n      }\n    },\n    {\n      \"column\": \"level_edu\",\n      \"properties\": {\n        \"dtype\": \"int8\",\n        \"num_unique_values\": 4,\n        \"samples\": [\n          2,\n          3\n        ],\n        \"semantic_type\": \"\",\n        \"description\": \"\"\n      }\n    },\n    {\n      \"column\": \"salary\",\n      \"properties\": {\n        \"dtype\": \"number\",\n        \"std\": 57519,\n        \"min\": 50000,\n        \"max\": 249996,\n        \"num_unique_values\": 43768,\n        \"samples\": [\n          106313,\n          179660\n        ],\n        \"semantic_type\": \"\",\n        \"description\": \"\"\n      }\n    }\n  ]\n}"
            }
          },
          "metadata": {},
          "execution_count": 25
        }
      ]
    },
    {
      "cell_type": "code",
      "source": [
        "# Create a new dataframe called y that contians the target we're\n",
        "# trying to predict\n",
        "y=df_im['pay_level']\n",
        "y.unique()"
      ],
      "metadata": {
        "id": "M_2jZNEsqnB1",
        "outputId": "a577469f-37f0-4b36-eae2-bf0159e3d949",
        "colab": {
          "base_uri": "https://localhost:8080/"
        }
      },
      "execution_count": 26,
      "outputs": [
        {
          "output_type": "execute_result",
          "data": {
            "text/plain": [
              "array([1, 3, 2])"
            ]
          },
          "metadata": {},
          "execution_count": 26
        }
      ]
    },
    {
      "cell_type": "markdown",
      "source": [
        "## Split Data"
      ],
      "metadata": {
        "id": "46-FovE8Wncs"
      }
    },
    {
      "cell_type": "code",
      "source": [
        "\n",
        "# Import and use the train_test_split() function to split the X and y\n",
        "# dataframes into training and test sets.\n",
        "#\n",
        "# The training data should contain 80% of the samples and\n",
        "# the test data should contain 20% of the samples.\n",
        "from sklearn.model_selection import train_test_split\n",
        "\n",
        "\n",
        "X_train, X_test, y_train, y_test = train_test_split(\n",
        "          X, y, test_size=0.3, random_state=1)\n",
        "\n",
        "# Use StandardScaler() to normolize data around a mean of 0\n",
        "scaler = StandardScaler()\n",
        "X_scaler = scaler.fit(X_train)\n",
        "X_train_scaled = X_scaler.transform(X_train)\n",
        "X_test_scaled = X_scaler.transform(X_test)\n",
        "print(X_test_scaled)\n",
        "\n"
      ],
      "metadata": {
        "id": "IupVTU5xq2Vp",
        "outputId": "bb5843c8-0654-43e0-c1d5-5fbfc99f5df2",
        "colab": {
          "base_uri": "https://localhost:8080/"
        }
      },
      "execution_count": 27,
      "outputs": [
        {
          "output_type": "stream",
          "name": "stdout",
          "text": [
            "[[ 0.15547076  1.30820003  1.41559863 ...  1.03896025  0.23235908\n",
            "  -0.63672668]\n",
            " [-1.42542451  0.43220234  0.50385324 ... -0.96250073  1.14925546\n",
            "  -0.3779746 ]\n",
            " [-0.93978599 -1.02779382  1.75750316 ... -0.96250073 -1.60143368\n",
            "   0.35701523]\n",
            " ...\n",
            " [-1.70737722  0.43220234  0.95972594 ... -0.96250073  1.14925546\n",
            "  -0.30203328]\n",
            " [ 0.05630071 -0.73579459 -0.52186033 ... -0.96250073 -1.60143368\n",
            "   1.3029339 ]\n",
            " [ 1.25196114  1.0162008   1.07369411 ... -0.96250073  0.23235908\n",
            "  -0.00581358]]\n"
          ]
        }
      ]
    },
    {
      "cell_type": "code",
      "source": [
        "# it seems that my Y training is imbalance becasue the non existing is bigger than other outcomes\n",
        "ax=sns.histplot(data=y_train)\n",
        "for p in ax.patches:\n",
        "    ax.annotate(f'{p.get_height()}', (p.get_x() + p.get_width() / 2., p.get_height()),\n",
        "                ha='center', va='center', xytext=(0, 5), textcoords='offset points')\n",
        "\n",
        "plt.show()"
      ],
      "metadata": {
        "id": "NLaI3BbFrM8I",
        "outputId": "8419d58d-36f8-46ff-93e6-1c0827914103",
        "colab": {
          "base_uri": "https://localhost:8080/",
          "height": 450
        }
      },
      "execution_count": 28,
      "outputs": [
        {
          "output_type": "display_data",
          "data": {
            "text/plain": [
              "<Figure size 640x480 with 1 Axes>"
            ],
            "image/png": "[encoded data removed]"
          },
          "metadata": {}
        }
      ]
    },
    {
      "cell_type": "markdown",
      "source": [
        "## Dealing with imbalance\n",
        "\n",
        "https://www.analyticsvidhya.com/blog/2021/06/5-techniques-to-handle-imbalanced-data-for-a-classification-problem/"
      ],
      "metadata": {
        "id": "AKeU3rErphH5"
      }
    },
    {
      "cell_type": "code",
      "source": [
        "!pip install imblearn"
      ],
      "metadata": {
        "id": "PUGLo7Kc3QP-",
        "outputId": "e8e45bfb-42f3-4f73-db14-135072483fb6",
        "colab": {
          "base_uri": "https://localhost:8080/"
        }
      },
      "execution_count": 29,
      "outputs": [
        {
          "output_type": "stream",
          "name": "stdout",
          "text": [
            "Requirement already satisfied: imblearn in /usr/local/lib/python3.10/dist-packages (0.0)\n",
            "Requirement already satisfied: imbalanced-learn in /usr/local/lib/python3.10/dist-packages (from imblearn) (0.10.1)\n",
            "Requirement already satisfied: numpy>=1.17.3 in /usr/local/lib/python3.10/dist-packages (from imbalanced-learn->imblearn) (1.25.2)\n",
            "Requirement already satisfied: scipy>=1.3.2 in /usr/local/lib/python3.10/dist-packages (from imbalanced-learn->imblearn) (1.11.4)\n",
            "Requirement already satisfied: scikit-learn>=1.0.2 in /usr/local/lib/python3.10/dist-packages (from imbalanced-learn->imblearn) (1.2.2)\n",
            "Requirement already satisfied: joblib>=1.1.1 in /usr/local/lib/python3.10/dist-packages (from imbalanced-learn->imblearn) (1.3.2)\n",
            "Requirement already satisfied: threadpoolctl>=2.0.0 in /usr/local/lib/python3.10/dist-packages (from imbalanced-learn->imblearn) (3.3.0)\n"
          ]
        }
      ]
    },
    {
      "cell_type": "code",
      "source": [
        "'''from imblearn.under_sampling import RandomUnderSampler\n",
        "rus = RandomUnderSampler(random_state=1)\n",
        "\n",
        "X_new, y_new= rus.fit_resample(X_train_scaled, y_train)#X_train_scaled  X_train\n",
        "\n",
        "y_new.value_counts()'''"
      ],
      "metadata": {
        "id": "vL-Sr_yH0vmh",
        "outputId": "514c3677-3df8-49f2-b227-28852bed84a5",
        "colab": {
          "base_uri": "https://localhost:8080/",
          "height": 54
        }
      },
      "execution_count": 30,
      "outputs": [
        {
          "output_type": "execute_result",
          "data": {
            "text/plain": [
              "'from imblearn.under_sampling import RandomUnderSampler\\nrus = RandomUnderSampler(random_state=1)\\n\\nX_new, y_new= rus.fit_resample(X_train_scaled, y_train)#X_train_scaled  X_train\\n\\ny_new.value_counts()'"
            ],
            "application/vnd.google.colaboratory.intrinsic+json": {
              "type": "string"
            }
          },
          "metadata": {},
          "execution_count": 30
        }
      ]
    },
    {
      "cell_type": "code",
      "source": [
        "#oversampling\n",
        "from imblearn.over_sampling import RandomOverSampler\n",
        "# https://imbalanced-learn.readthedocs.io/en/stable/user_guide.html\n",
        "\n",
        "ro = RandomOverSampler()\n",
        "\n",
        "X_new, y_new = ro.fit_resample(X_train_scaled, y_train)\n",
        "\n",
        "y_new.value_counts()"
      ],
      "metadata": {
        "id": "Xz7WgBw4Z6eA",
        "outputId": "74df1e36-4580-495f-96cb-a3ff95ed1ad5",
        "colab": {
          "base_uri": "https://localhost:8080/"
        }
      },
      "execution_count": 31,
      "outputs": [
        {
          "output_type": "execute_result",
          "data": {
            "text/plain": [
              "3    18163\n",
              "1    18163\n",
              "2    18163\n",
              "Name: pay_level, dtype: int64"
            ]
          },
          "metadata": {},
          "execution_count": 31
        }
      ]
    },
    {
      "cell_type": "code",
      "source": [
        "ax=sns.histplot(data=y_new)\n",
        "for p in ax.patches:\n",
        "    ax.annotate(f'{p.get_height()}', (p.get_x() + p.get_width() / 2., p.get_height()),\n",
        "                ha='center', va='center', xytext=(0, 5), textcoords='offset points')\n",
        "\n",
        "plt.show()"
      ],
      "metadata": {
        "id": "qd1OLLcjrl1t",
        "outputId": "7d1d648e-12f3-4f80-a042-3c8ac2afd813",
        "colab": {
          "base_uri": "https://localhost:8080/",
          "height": 450
        }
      },
      "execution_count": 32,
      "outputs": [
        {
          "output_type": "display_data",
          "data": {
            "text/plain": [
              "<Figure size 640x480 with 1 Axes>"
            ],
            "image/png": "[encoded data removed]"
          },
          "metadata": {}
        }
      ]
    },
    {
      "cell_type": "markdown",
      "source": [
        "## Training the tree model"
      ],
      "metadata": {
        "id": "IE1hu1oP_pjL"
      }
    },
    {
      "cell_type": "code",
      "source": [
        " from sklearn import tree"
      ],
      "metadata": {
        "id": "FmMTaJqqpirx"
      },
      "execution_count": 33,
      "outputs": []
    },
    {
      "cell_type": "code",
      "source": [
        "clf = tree.DecisionTreeClassifier(max_leaf_nodes=10)#max_leaf_nodes=10, random_state=0"
      ],
      "metadata": {
        "id": "aSpqp-pMAvw2"
      },
      "execution_count": 34,
      "outputs": []
    },
    {
      "cell_type": "code",
      "source": [
        "clf = clf.fit(X_new, y_new)"
      ],
      "metadata": {
        "id": "rL2_HOX6Axch"
      },
      "execution_count": 35,
      "outputs": []
    },
    {
      "cell_type": "code",
      "source": [
        "tree.plot_tree(clf)"
      ],
      "metadata": {
        "id": "LiD9V1pENRXc",
        "outputId": "a3e80aa4-edba-4eb8-e5ce-3a735966e66f",
        "colab": {
          "base_uri": "https://localhost:8080/",
          "height": 752
        }
      },
      "execution_count": 36,
      "outputs": [
        {
          "output_type": "execute_result",
          "data": {
            "text/plain": [
              "[Text(0.5, 0.9285714285714286, 'x[5] <= -0.024\\ngini = 0.667\\nsamples = 54489\\nvalue = [18163, 18163, 18163]'),\n",
              " Text(0.2, 0.7857142857142857, 'x[4] <= 0.451\\ngini = 0.483\\nsamples = 30688\\nvalue = [18163, 0, 12525]'),\n",
              " Text(0.1, 0.6428571428571429, 'gini = 0.005\\nsamples = 10541\\nvalue = [25, 0, 10516]'),\n",
              " Text(0.3, 0.6428571428571429, 'x[5] <= -0.281\\ngini = 0.18\\nsamples = 20147\\nvalue = [18138, 0, 2009]'),\n",
              " Text(0.2, 0.5, 'x[3] <= 0.035\\ngini = 0.162\\nsamples = 12534\\nvalue = [11422, 0, 1112]'),\n",
              " Text(0.1, 0.35714285714285715, 'gini = 0.187\\nsamples = 5264\\nvalue = [4716, 0, 548]'),\n",
              " Text(0.3, 0.35714285714285715, 'gini = 0.143\\nsamples = 7270\\nvalue = [6706, 0, 564]'),\n",
              " Text(0.4, 0.5, 'gini = 0.208\\nsamples = 7613\\nvalue = [6716, 0, 897]'),\n",
              " Text(0.8, 0.7857142857142857, 'x[5] <= 0.232\\ngini = 0.362\\nsamples = 23801\\nvalue = [0, 18163, 5638]'),\n",
              " Text(0.7, 0.6428571428571429, 'x[4] <= 0.451\\ngini = 0.096\\nsamples = 19130\\nvalue = [0, 18163, 967]'),\n",
              " Text(0.6, 0.5, 'x[4] <= -1.68\\ngini = 0.185\\nsamples = 678\\nvalue = [0, 70, 608]'),\n",
              " Text(0.5, 0.35714285714285715, 'x[4] <= -2.532\\ngini = 0.325\\nsamples = 88\\nvalue = [0, 70, 18]'),\n",
              " Text(0.4, 0.21428571428571427, 'gini = 0.0\\nsamples = 10\\nvalue = [0, 0, 10]'),\n",
              " Text(0.6, 0.21428571428571427, 'x[9] <= -0.525\\ngini = 0.184\\nsamples = 78\\nvalue = [0, 70, 8]'),\n",
              " Text(0.5, 0.07142857142857142, 'gini = 0.0\\nsamples = 2\\nvalue = [0, 0, 2]'),\n",
              " Text(0.7, 0.07142857142857142, 'gini = 0.145\\nsamples = 76\\nvalue = [0, 70, 6]'),\n",
              " Text(0.7, 0.35714285714285715, 'gini = 0.0\\nsamples = 590\\nvalue = [0, 0, 590]'),\n",
              " Text(0.8, 0.5, 'gini = 0.038\\nsamples = 18452\\nvalue = [0, 18093, 359]'),\n",
              " Text(0.9, 0.6428571428571429, 'gini = 0.0\\nsamples = 4671\\nvalue = [0, 0, 4671]')]"
            ]
          },
          "metadata": {},
          "execution_count": 36
        },
        {
          "output_type": "display_data",
          "data": {
            "text/plain": [
              "<Figure size 640x480 with 1 Axes>"
            ],
            "image/png": "[encoded data removed]"
          },
          "metadata": {}
        }
      ]
    },
    {
      "cell_type": "code",
      "source": [
        "\n",
        "# Identify the most important columns\n",
        "# The zip function pairs each object\n",
        "importance = clf.feature_importances_\n",
        "df = pd.DataFrame(list(zip(importance, X.columns.to_list())),columns =['importance', 'feature'])\n",
        "#print(importance,X.columns.to_list())\n",
        "\n",
        "df = df.sort_values(by='importance')\n",
        "\n"
      ],
      "metadata": {
        "id": "o4eWG2k2Emf0"
      },
      "execution_count": 54,
      "outputs": []
    },
    {
      "cell_type": "code",
      "source": [
        "# Visualize a bar graph of feature importance scores\n",
        "sns.set(rc={'figure.figsize':(11,8)})\n",
        "sns.barplot(data=df,x='importance',y='feature')\n",
        "# number employed is being used as an indicator of how the economy is doing"
      ],
      "metadata": {
        "id": "CJiLfjkHEwaW",
        "outputId": "642c25b3-4cfc-4741-9680-478fb59d73ae",
        "colab": {
          "base_uri": "https://localhost:8080/",
          "height": 722
        }
      },
      "execution_count": 38,
      "outputs": [
        {
          "output_type": "execute_result",
          "data": {
            "text/plain": [
              "<Axes: xlabel='importance', ylabel='feature'>"
            ]
          },
          "metadata": {},
          "execution_count": 38
        },
        {
          "output_type": "display_data",
          "data": {
            "text/plain": [
              "<Figure size 1100x800 with 1 Axes>"
            ],
            "image/png": "[encoded data removed]"
          },
          "metadata": {}
        }
      ]
    },
    {
      "cell_type": "markdown",
      "source": [
        "## Predictions with Model"
      ],
      "metadata": {
        "id": "-nzbgU6-Rlx6"
      }
    },
    {
      "cell_type": "code",
      "source": [
        "test_predictions=clf.predict(X_test_scaled) #X_test_scaled"
      ],
      "metadata": {
        "id": "taHZru6XJQTl"
      },
      "execution_count": 39,
      "outputs": []
    },
    {
      "cell_type": "code",
      "source": [
        "test_predictions"
      ],
      "metadata": {
        "id": "1f7WLgvHJn1f",
        "outputId": "0c32e73f-2509-4942-dd8e-f50225210243",
        "colab": {
          "base_uri": "https://localhost:8080/"
        }
      },
      "execution_count": 40,
      "outputs": [
        {
          "output_type": "execute_result",
          "data": {
            "text/plain": [
              "array([3, 1, 3, ..., 3, 3, 2])"
            ]
          },
          "metadata": {},
          "execution_count": 40
        }
      ]
    },
    {
      "cell_type": "code",
      "source": [
        "y_train.count()"
      ],
      "metadata": {
        "id": "XpfrPKchJnw9",
        "outputId": "76c70c64-61c1-4f5e-b6ae-925cd63de636",
        "colab": {
          "base_uri": "https://localhost:8080/"
        }
      },
      "execution_count": 41,
      "outputs": [
        {
          "output_type": "execute_result",
          "data": {
            "text/plain": [
              "34658"
            ]
          },
          "metadata": {},
          "execution_count": 41
        }
      ]
    },
    {
      "cell_type": "markdown",
      "source": [
        "## Evaluate"
      ],
      "metadata": {
        "id": "pvTsF0M9LYVo"
      }
    },
    {
      "cell_type": "code",
      "source": [
        "#Accuracy\n",
        "from sklearn.metrics import accuracy_score\n",
        "accuracy_score(y_test, test_predictions)"
      ],
      "metadata": {
        "id": "SEtzZ6TGLbUI",
        "outputId": "6cec971b-9856-445f-cc7a-f520b9887412",
        "colab": {
          "base_uri": "https://localhost:8080/"
        }
      },
      "execution_count": 42,
      "outputs": [
        {
          "output_type": "execute_result",
          "data": {
            "text/plain": [
              "0.930119833041605"
            ]
          },
          "metadata": {},
          "execution_count": 42
        }
      ]
    },
    {
      "cell_type": "code",
      "source": [
        "from sklearn.metrics import classification_report\n",
        "print(classification_report(y_test, test_predictions))"
      ],
      "metadata": {
        "id": "zKHPDllHHFWH",
        "outputId": "e0005465-0661-4a82-b667-fcea65b2395f",
        "colab": {
          "base_uri": "https://localhost:8080/"
        }
      },
      "execution_count": 43,
      "outputs": [
        {
          "output_type": "stream",
          "name": "stdout",
          "text": [
            "              precision    recall  f1-score   support\n",
            "\n",
            "           1       0.88      1.00      0.93      6215\n",
            "           2       0.80      1.00      0.89       691\n",
            "           3       1.00      0.87      0.93      7948\n",
            "\n",
            "    accuracy                           0.93     14854\n",
            "   macro avg       0.89      0.96      0.92     14854\n",
            "weighted avg       0.94      0.93      0.93     14854\n",
            "\n"
          ]
        }
      ]
    },
    {
      "cell_type": "code",
      "source": [
        "# confution Matrix\n",
        "from sklearn.metrics import confusion_matrix\n",
        "\n",
        "cm = confusion_matrix(y_test, test_predictions)"
      ],
      "metadata": {
        "id": "brjZ-kyVLeZs"
      },
      "execution_count": 44,
      "outputs": []
    },
    {
      "cell_type": "code",
      "source": [
        "import numpy as np\n",
        "import matplotlib.pyplot as plt\n",
        "sns.set()\n",
        "\n",
        "unique_labels = np.unique(y_test)\n",
        "\n",
        "sns.heatmap(cm,fmt=\"d\", annot=True, cmap=\"Blues\",\n",
        "             xticklabels=unique_labels, yticklabels=unique_labels)\n",
        "\n",
        "plt.xlabel('Predicted Labels')\n",
        "plt.ylabel('True Labels')\n",
        "plt.title('Confusion Matrix')\n",
        "plt.show()"
      ],
      "metadata": {
        "id": "Qz63L2A1Lo-H",
        "outputId": "fba4f362-5447-4d83-b507-38d343e7293d",
        "colab": {
          "base_uri": "https://localhost:8080/",
          "height": 727
        }
      },
      "execution_count": 45,
      "outputs": [
        {
          "output_type": "display_data",
          "data": {
            "text/plain": [
              "<Figure size 1100x800 with 2 Axes>"
            ],
            "image/png": "[encoded data removed]"
          },
          "metadata": {}
        }
      ]
    },
    {
      "cell_type": "markdown",
      "source": [
        "## Use model"
      ],
      "metadata": {
        "id": "LlLamf4fM0oc"
      }
    }
  ]
}