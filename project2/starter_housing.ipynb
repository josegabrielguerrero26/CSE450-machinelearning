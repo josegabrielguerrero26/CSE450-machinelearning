{
  "nbformat": 4,
  "nbformat_minor": 0,
  "metadata": {
    "colab": {
      "name": "starter_housing.ipynb",
      "provenance": [],
      "toc_visible": true,
      "include_colab_link": true
    },
    "kernelspec": {
      "name": "python3",
      "display_name": "Python 3"
    }
  },
  "cells": [
    {
      "cell_type": "markdown",
      "metadata": {
        "id": "view-in-github",
        "colab_type": "text"
      },
      "source": [
        "<a href=\"https://colab.research.google.com/github/josegabrielguerrero26/CSE450-machinelearning/blob/main/project2/starter_housing.ipynb\" target=\"_parent\"><img src=\"https://colab.research.google.com/assets/colab-badge.svg\" alt=\"Open In Colab\"/></a>"
      ]
    },
    {
      "cell_type": "markdown",
      "source": [
        "### ** INTRODUCTION**"
      ],
      "metadata": {
        "id": "uRwHN4eHhErG"
      }
    },
    {
      "cell_type": "markdown",
      "source": [
        "1. Data Dictionary: https://byui-cse.github.io/cse450-course/module-03/housing-dictionary.txt\n",
        "2. Problem Intro: https://byui-cse.github.io/cse450-course/module-03/intro.html\n",
        "3. Dataset https://raw.githubusercontent.com/byui-cse/cse450-course/master/data/housing.csv"
      ],
      "metadata": {
        "id": "65H4YDxVhhU9"
      }
    },
    {
      "cell_type": "markdown",
      "source": [
        "-You’re working as a data analyst for Reddic Housing LLC, a company that specializes in providing house price estimates to development firms.\n",
        "\n",
        "Recently, a rival company (Grenic Housing Inc) announced that they were launching a set of initiatives to use Artificial Intelligence and Machine Learning to bring their housing estimates into the twenty-first century.\n",
        "\n",
        "After a heated shareholders meeting, the board of directors has tasked the CEO with making sure Reddic Housing LLC isn’t left behind."
      ],
      "metadata": {
        "id": "iM292Mirh-UD"
      }
    },
    {
      "cell_type": "markdown",
      "source": [
        "# Questions"
      ],
      "metadata": {
        "id": "q6oEU3rwk1yr"
      }
    },
    {
      "cell_type": "markdown",
      "source": [
        "Questions\n",
        "You're about to go into a strategy meeting with the CEO, Vice President of Human Resources, and Vice President of Finance. They want to make sure you have the data required to answer the questions they're most interested in.\n",
        "\n",
        "Be prepared to answer the following questions:\n",
        "\n",
        "- **PROBLEM TYPE**\n",
        "\n",
        "DEVON, THE CEO SAYS:\n",
        "I just sat through four hours of machine learning training with the board of directors this past week, so I'm curious to get your take on this.\n",
        "\n",
        "Looking at the data and our business model, what kind of machine learning problem do you think we're looking at here?\n",
        "\n",
        "- **MODEL CONFIDENCE**\n",
        "\n",
        "CECIL, THE VP OF CUSTOMER RELATIONS ASKS:\n",
        "My biggest concern right now is making sure that whatever method we come up with to predict housing prices, we can also attach some kind of empirical confidence metric.\n",
        "\n",
        "Based on your initial analysis of the data, your team feels you can best show confidence in your model by using:\n",
        "\n",
        "The sum of squares error (SSE).\n",
        "The mean squared error (MSE).\n",
        "The root mean squared error (RMSE).\n",
        "The 2R value.\n",
        "\n",
        "- **INSURANCE QUESTION**\n",
        "\n",
        "WILLIAM, THE VP OF FINANCE ASKS:\n",
        "Our insurance customers are particularly interested in making sure that homes in… unsavory neighborhoods, aren't estimated high.\n",
        "\n",
        "Is there a way we can easily identify properties in low income areas and have the model lower those estimates to protect our insurance customers' interests?\n",
        "\n",
        "Based on your initial analysis of the data, your team feels:\n",
        "\n",
        "We can lower the predicted price for specific neighborhoods before training the model.\n",
        "We can add average income or other demographic information for the area as features.\n",
        "For specific zip codes we could add a step to our pipeline that reduces the predicted price by a specific percentage prior to outputting the final price result to ensure the properties aren’t being overvalued.\n",
        "Taking this kind of action would be a violation of federal laws and/or ethics.\n",
        "\n",
        "- **DATA ANALYSIS**\n",
        "\n",
        "JOHNNY, THE DATA SCIENCE INTERN ASKS:\n",
        "The head of data science says we should use gradient boosted trees for this analysis.\n",
        "\n",
        "I've noticed that a lot of the features use pretty different ranges.\n",
        "\n",
        "For example, how should we handle square footage?"
      ],
      "metadata": {
        "id": "NnAF2IXMj-P2"
      }
    },
    {
      "cell_type": "markdown",
      "source": [
        "# Libraries- Dataset"
      ],
      "metadata": {
        "id": "Fe_fFqN8itGc"
      }
    },
    {
      "cell_type": "code",
      "metadata": {
        "id": "mA0HPVmIBT4C"
      },
      "source": [
        "#!pip install ydata_profiling # data Table Analysis\n",
        "#!pip install typing_extensions # data Table Analysis\n",
        "import pandas as pd\n",
        "import seaborn as sns\n",
        "import matplotlib.pyplot as plt # for graphs\n",
        "from sklearn.model_selection import train_test_split #Model Split to train\n",
        "from sklearn.metrics import accuracy_score           #Accuracy model\n",
        "\n",
        "\n",
        "housing = pd.read_csv('https://raw.githubusercontent.com/byui-cse/cse450-course/master/data/housing.csv')"
      ],
      "execution_count": 1,
      "outputs": []
    },
    {
      "cell_type": "markdown",
      "source": [
        "# Table Description"
      ],
      "metadata": {
        "id": "JgAH_7kliuzl"
      }
    },
    {
      "cell_type": "code",
      "source": [],
      "metadata": {
        "id": "9PZKXNHRi3Q0"
      },
      "execution_count": null,
      "outputs": []
    },
    {
      "cell_type": "markdown",
      "source": [
        "# Data Wrangling - Missing Values, transformation"
      ],
      "metadata": {
        "id": "xcq3Tsbpi385"
      }
    },
    {
      "cell_type": "code",
      "source": [],
      "metadata": {
        "id": "K_PUgdkjjJfv"
      },
      "execution_count": null,
      "outputs": []
    },
    {
      "cell_type": "markdown",
      "source": [
        "# Machine Learning Model"
      ],
      "metadata": {
        "id": "jWRpNO5zjDFq"
      }
    },
    {
      "cell_type": "markdown",
      "source": [
        "## Split Date"
      ],
      "metadata": {
        "id": "U13fghpKjQgC"
      }
    },
    {
      "cell_type": "code",
      "source": [],
      "metadata": {
        "id": "beR7nCK9jKJy"
      },
      "execution_count": null,
      "outputs": []
    },
    {
      "cell_type": "markdown",
      "source": [
        "## Imbalance"
      ],
      "metadata": {
        "id": "tqrJ2MZJjUhB"
      }
    },
    {
      "cell_type": "code",
      "source": [],
      "metadata": {
        "id": "M0aYaZHKjYW6"
      },
      "execution_count": null,
      "outputs": []
    },
    {
      "cell_type": "markdown",
      "source": [
        "## Training Model"
      ],
      "metadata": {
        "id": "VP6SrINLja1l"
      }
    },
    {
      "cell_type": "code",
      "source": [],
      "metadata": {
        "id": "E87Qa1yojcY6"
      },
      "execution_count": null,
      "outputs": []
    },
    {
      "cell_type": "markdown",
      "source": [
        "## Resample"
      ],
      "metadata": {
        "id": "cDI5uLgzjddr"
      }
    },
    {
      "cell_type": "code",
      "source": [],
      "metadata": {
        "id": "BrXARpiOjkT6"
      },
      "execution_count": null,
      "outputs": []
    },
    {
      "cell_type": "markdown",
      "source": [
        "## Prediction"
      ],
      "metadata": {
        "id": "FSs1yfK5jm1W"
      }
    },
    {
      "cell_type": "code",
      "source": [],
      "metadata": {
        "id": "jtn0-72Kjn6Z"
      },
      "execution_count": null,
      "outputs": []
    },
    {
      "cell_type": "markdown",
      "source": [
        "## Evaluation"
      ],
      "metadata": {
        "id": "cobrn2ZKjqXJ"
      }
    },
    {
      "cell_type": "code",
      "source": [],
      "metadata": {
        "id": "6Z6LeduijrY5"
      },
      "execution_count": null,
      "outputs": []
    },
    {
      "cell_type": "markdown",
      "source": [
        "# Applying Model"
      ],
      "metadata": {
        "id": "_n9TSLF9juHn"
      }
    },
    {
      "cell_type": "code",
      "source": [],
      "metadata": {
        "id": "u2SKsjOojxLi"
      },
      "execution_count": null,
      "outputs": []
    }
  ]
}