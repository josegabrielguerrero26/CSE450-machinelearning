{
 "cells": [
  {
   "cell_type": "code",
   "execution_count": 1,
   "metadata": {},
   "outputs": [],
   "source": [
    "import matplotlib.pyplot as plt"
   ]
  },
  {
   "cell_type": "code",
   "execution_count": 2,
   "metadata": {
    "id": "XtiXE04uGB_U"
   },
   "outputs": [
    {
     "name": "stdout",
     "output_type": "stream",
     "text": [
      "WARNING:tensorflow:From C:\\Users\\Jake\\AppData\\Local\\Programs\\Python\\Python311\\Lib\\site-packages\\keras\\src\\losses.py:2976: The name tf.losses.sparse_softmax_cross_entropy is deprecated. Please use tf.compat.v1.losses.sparse_softmax_cross_entropy instead.\n",
      "\n"
     ]
    }
   ],
   "source": [
    "# Import libraries\n",
    "import tensorflow as tf\n",
    "from tensorflow.keras.layers.experimental import preprocessing\n",
    "\n",
    "import numpy as np\n",
    "import os\n",
    "import time"
   ]
  },
  {
   "cell_type": "markdown",
   "metadata": {
    "id": "qv4r-dKnSRKz"
   },
   "source": [
    "## I. Parse Text Sources\n",
    "First we'll load our text sources and create our vocabulary lists and encoders.\n",
    "\n",
    "There are ways we could do this in pure python, but using the tensorflow data structures and libraries allow us to keep things super-optimized."
   ]
  },
  {
   "cell_type": "code",
   "execution_count": 3,
   "metadata": {
    "colab": {
     "base_uri": "https://localhost:8080/"
    },
    "id": "H8RbnIjwHGoR",
    "outputId": "147c5e22-03e5-4866-f56a-8f87bae414f8"
   },
   "outputs": [
    {
     "name": "stdout",
     "output_type": "stream",
     "text": [
      "Length of text: 4906787 characters\n"
     ]
    }
   ],
   "source": [
    "# Load file data\n",
    "path_to_file = tf.keras.utils.get_file('austen.txt', 'https://raw.githubusercontent.com/byui-cse/cse450-course/master/data/austen/austen.txt')\n",
    "text = open(path_to_file, 'rb').read().decode(encoding='utf-8')\n",
    "print('Length of text: {} characters'.format(len(text)))"
   ]
  },
  {
   "cell_type": "code",
   "execution_count": 4,
   "metadata": {
    "colab": {
     "base_uri": "https://localhost:8080/"
    },
    "id": "2XRnt0XUHUrq",
    "outputId": "ce8804e4-e671-4b58-c72d-3912b6457759"
   },
   "outputs": [
    {
     "name": "stdout",
     "output_type": "stream",
     "text": [
      "VOLUME I\n",
      "\n",
      "\n",
      "\n",
      "CHAPTER I\n",
      "\n",
      "\n",
      "Emma Woodhouse, handsome, clever, and rich, with a comfortable home\n",
      "and happy disposition, seemed to unite some of the best blessings of\n",
      "existence; and had lived nearly twenty-\n"
     ]
    }
   ],
   "source": [
    "# Verify the first part of our data\n",
    "print(text[:200])"
   ]
  },
  {
   "cell_type": "code",
   "execution_count": 5,
   "metadata": {
    "colab": {
     "base_uri": "https://localhost:8080/"
    },
    "id": "2SLd7l0HP1Po",
    "outputId": "4d826728-b707-4098-c393-2e47c70216d6"
   },
   "outputs": [
    {
     "name": "stdout",
     "output_type": "stream",
     "text": [
      "86 unique characters\n",
      "['\\n', ' ', '!', '\"', '&', \"'\", '(', ')', '*', ',', '-', '.', '0', '1', '2', '3', '4', '5', '6', '7', '8', '9', ':', ';', '?', 'A', 'B', 'C', 'D', 'E', 'F', 'G', 'H', 'I', 'J', 'K', 'L', 'M', 'N', 'O', 'P', 'Q', 'R', 'S', 'T', 'U', 'V', 'W', 'X', 'Y', 'Z', '[', ']', '_', 'a', 'b', 'c', 'd', 'e', 'f', 'g', 'h', 'i', 'j', 'k', 'l', 'm', 'n', 'o', 'p', 'q', 'r', 's', 't', 'u', 'v', 'w', 'x', 'y', 'z', '£', 'é', '‘', '’', '“', '”']\n"
     ]
    }
   ],
   "source": [
    "# Now we'll get a list of the unique characters in the file. This will form the\n",
    "# vocabulary of our network. There may be some characters we want to remove from this\n",
    "# set as we refine the network.\n",
    "vocab = sorted(set(text))\n",
    "print('{} unique characters'.format(len(vocab)))\n",
    "print(vocab)"
   ]
  },
  {
   "cell_type": "code",
   "execution_count": 6,
   "metadata": {
    "id": "NtjOxL7wQibb"
   },
   "outputs": [
    {
     "name": "stdout",
     "output_type": "stream",
     "text": [
      "WARNING:tensorflow:From C:\\Users\\Jake\\AppData\\Local\\Programs\\Python\\Python311\\Lib\\site-packages\\keras\\src\\backend.py:873: The name tf.get_default_graph is deprecated. Please use tf.compat.v1.get_default_graph instead.\n",
      "\n"
     ]
    }
   ],
   "source": [
    "# Next, we'll encode encode these characters into numbers so we can use them\n",
    "# with our neural network, then we'll create some mappings between the characters\n",
    "# and their numeric representations\n",
    "ids_from_chars = preprocessing.StringLookup(vocabulary=list(vocab))\n",
    "chars_from_ids = tf.keras.layers.experimental.preprocessing.StringLookup(vocabulary=ids_from_chars.get_vocabulary(), invert=True)\n",
    "\n",
    "# Here's a little helper function that we can use to turn a sequence of ids\n",
    "# back into a string:\n",
    "# turn them into a string:\n",
    "def text_from_ids(ids):\n",
    "  joinedTensor = tf.strings.reduce_join(chars_from_ids(ids), axis=-1)\n",
    "  return joinedTensor.numpy().decode(\"utf-8\")"
   ]
  },
  {
   "cell_type": "code",
   "execution_count": 7,
   "metadata": {
    "colab": {
     "base_uri": "https://localhost:8080/"
    },
    "id": "52bkemreRw8q",
    "outputId": "816ca1c4-51c5-4c72-e8b8-6f11bd4eb5f2"
   },
   "outputs": [
    {
     "name": "stdout",
     "output_type": "stream",
     "text": [
      "WARNING:tensorflow:From C:\\Users\\Jake\\AppData\\Local\\Programs\\Python\\Python311\\Lib\\site-packages\\keras\\src\\utils\\tf_utils.py:492: The name tf.ragged.RaggedTensorValue is deprecated. Please use tf.compat.v1.ragged.RaggedTensorValue instead.\n",
      "\n"
     ]
    },
    {
     "data": {
      "text/plain": [
       "<tf.Tensor: shape=(5,), dtype=int64, numpy=array([45, 72, 75, 74, 62], dtype=int64)>"
      ]
     },
     "execution_count": 7,
     "metadata": {},
     "output_type": "execute_result"
    }
   ],
   "source": [
    "# Now we'll verify that they work, by getting the code for \"A\", and then looking\n",
    "# that up in reverse\n",
    "testids = ids_from_chars([\"T\", \"r\", \"u\", \"t\", \"h\"])\n",
    "testids"
   ]
  },
  {
   "cell_type": "code",
   "execution_count": 8,
   "metadata": {
    "colab": {
     "base_uri": "https://localhost:8080/"
    },
    "id": "vGUnSHjtD_IJ",
    "outputId": "9a61f44d-afed-4698-ffa4-078609b94339"
   },
   "outputs": [
    {
     "data": {
      "text/plain": [
       "<tf.Tensor: shape=(5,), dtype=string, numpy=array([b'T', b'r', b'u', b't', b'h'], dtype=object)>"
      ]
     },
     "execution_count": 8,
     "metadata": {},
     "output_type": "execute_result"
    }
   ],
   "source": [
    "chars_from_ids(testids)"
   ]
  },
  {
   "cell_type": "code",
   "execution_count": 9,
   "metadata": {
    "colab": {
     "base_uri": "https://localhost:8080/",
     "height": 35
    },
    "id": "8rghkpLLLjL5",
    "outputId": "84118ba9-5be8-4406-ed02-e01785d27864"
   },
   "outputs": [
    {
     "data": {
      "text/plain": [
       "'Truth'"
      ]
     },
     "execution_count": 9,
     "metadata": {},
     "output_type": "execute_result"
    }
   ],
   "source": [
    "testString = text_from_ids( testids )\n",
    "testString"
   ]
  },
  {
   "cell_type": "markdown",
   "metadata": {
    "id": "MRXMVqTcSpA0"
   },
   "source": [
    "## II. Construct our training data\n",
    "Next we need to construct our training data by building sentence chunks. Each chunk will consist of a sequence of characters and a corresponding \"next sequence\" of the same length showing what would happen if we move forward in the text. This \"next sequence\" becomes our target variable.\n",
    "\n",
    "For example, if this were our text:\n",
    "\n",
    "> It is a truth universally acknowledged, that a single man in possession\n",
    "of a good fortune, must be in want of a wife.\n",
    "\n",
    "And our sequence length was 10 with a step size of 1, our first chunk would be:\n",
    "\n",
    "* Sequence: `It is a tr`\n",
    "* Next Sequence: `t is a tru`\n",
    "\n",
    "Our second chunk would be:\n",
    "\n",
    "* Sequence: `t is a tru`\n",
    "* Next Word: ` is a trut`\n",
    "\n"
   ]
  },
  {
   "cell_type": "code",
   "execution_count": 10,
   "metadata": {
    "colab": {
     "base_uri": "https://localhost:8080/"
    },
    "id": "5PLJWOg2P_fE",
    "outputId": "43d83b2b-92ab-4b00-a3b1-f9de6b873e9a"
   },
   "outputs": [
    {
     "data": {
      "text/plain": [
       "<tf.Tensor: shape=(4906787,), dtype=int64, numpy=array([47, 40, 37, ..., 30, 39, 29], dtype=int64)>"
      ]
     },
     "execution_count": 10,
     "metadata": {},
     "output_type": "execute_result"
    }
   ],
   "source": [
    "# First, create a stream of encoded integers from our text\n",
    "all_ids = ids_from_chars(tf.strings.unicode_split(text, 'UTF-8'))\n",
    "all_ids"
   ]
  },
  {
   "cell_type": "code",
   "execution_count": 11,
   "metadata": {
    "id": "-nBqVY6pFpZs"
   },
   "outputs": [],
   "source": [
    "# Now, convert that into a tensorflow dataset\n",
    "ids_dataset = tf.data.Dataset.from_tensor_slices(all_ids)"
   ]
  },
  {
   "cell_type": "code",
   "execution_count": 12,
   "metadata": {
    "id": "8Fr28CJxUBtG"
   },
   "outputs": [],
   "source": [
    "# Finally, let's batch these sequences up into chunks for our training\n",
    "seq_length = 100\n",
    "sequences = ids_dataset.batch(seq_length+1, drop_remainder=True)\n",
    "\n",
    "# This function will generate our sequence pairs:\n",
    "def split_input_target(sequence):\n",
    "    input_text = sequence[:-1]\n",
    "    target_text = sequence[1:]\n",
    "    return input_text, target_text\n",
    "\n",
    "# Call the function for every sequence in our list to create a new dataset\n",
    "# of input->target pairs\n",
    "dataset = sequences.map(split_input_target)"
   ]
  },
  {
   "cell_type": "code",
   "execution_count": 13,
   "metadata": {
    "colab": {
     "base_uri": "https://localhost:8080/"
    },
    "id": "poNVukmsUFkq",
    "outputId": "96522556-fe9e-45bc-e0a7-4980b535186a"
   },
   "outputs": [
    {
     "name": "stdout",
     "output_type": "stream",
     "text": [
      "Input:  VOLUME I\n",
      "\n",
      "\n",
      "\n",
      "CHAPTER I\n",
      "\n",
      "\n",
      "Emma Woodhouse, handsome, clever, and rich, with a comfortable home\n",
      "and happ\n",
      "--------\n",
      "Target:  OLUME I\n",
      "\n",
      "\n",
      "\n",
      "CHAPTER I\n",
      "\n",
      "\n",
      "Emma Woodhouse, handsome, clever, and rich, with a comfortable home\n",
      "and happy\n"
     ]
    }
   ],
   "source": [
    "# Verify our sequences\n",
    "for input_example, target_example in  dataset.take(1):\n",
    "    print(\"Input: \", text_from_ids(input_example))\n",
    "    print(\"--------\")\n",
    "    print(\"Target: \", text_from_ids(target_example))"
   ]
  },
  {
   "cell_type": "code",
   "execution_count": 14,
   "metadata": {
    "colab": {
     "base_uri": "https://localhost:8080/"
    },
    "id": "QDdr6xfZYa0o",
    "outputId": "badb0caf-d2cb-4cfe-feb3-059410563f1f"
   },
   "outputs": [
    {
     "data": {
      "text/plain": [
       "<_PrefetchDataset element_spec=(TensorSpec(shape=(64, 100), dtype=tf.int64, name=None), TensorSpec(shape=(64, 100), dtype=tf.int64, name=None))>"
      ]
     },
     "execution_count": 14,
     "metadata": {},
     "output_type": "execute_result"
    }
   ],
   "source": [
    "# Finally, we'll randomize the sequences so that we don't just memorize the books\n",
    "# in the order they were written, then build a new streaming dataset from that.\n",
    "# Using a streaming dataset allows us to pass the data to our network bit by bit,\n",
    "# rather than keeping it all in memory. We'll set it to figure out how much data\n",
    "# to prefetch in the background.\n",
    "\n",
    "BATCH_SIZE = 64\n",
    "BUFFER_SIZE = 10000\n",
    "\n",
    "dataset = (\n",
    "    dataset\n",
    "    .shuffle(BUFFER_SIZE)\n",
    "    .batch(BATCH_SIZE, drop_remainder=True)\n",
    "    .prefetch(tf.data.experimental.AUTOTUNE))\n",
    "\n",
    "dataset"
   ]
  },
  {
   "cell_type": "markdown",
   "metadata": {
    "id": "0VQ-KjEeZMzd"
   },
   "source": [
    "## III. Build the model\n",
    "\n",
    "Next, we'll build our model. Up until this point, you've been using the Keras symbolic, or imperative API for creating your models. Doing something like:\n",
    "\n",
    "    model = tf.keras.models.Sequentla()\n",
    "    model.add(tf.keras.layers.Dense(80, activation='relu))\n",
    "    etc...\n",
    "\n",
    "However, tensorflow has another way to build models called the Functional API, which gives us a lot more control over what happens inside the model. You can read more about [the differences and when to use each here](https://blog.tensorflow.org/2019/01/what-are-symbolic-and-imperative-apis.html).\n",
    "\n",
    "We'll use the functional API for our RNN in this example. This will involve defining our model as a custom subclass of `tf.keras.Model`.\n",
    "\n",
    "If you're not familiar with classes in python, you might want to review [this quick tutorial](https://www.w3schools.com/python/python_classes.asp), as well as [this one on class inheritance](https://www.w3schools.com/python/python_inheritance.asp).\n",
    "\n",
    "Using a functional model is important for our situation because we're not just training it to predict a single character for a single sequence, but as we make predictions with it, we need it to remember those predictions as use that memory as it makes new predictions.\n"
   ]
  },
  {
   "cell_type": "code",
   "execution_count": 15,
   "metadata": {
    "id": "Fj4uh9y-Y9mx"
   },
   "outputs": [],
   "source": [
    "# Create our custom model. Given a sequence of characters, this\n",
    "# model's job is to predict what character should come next.\n",
    "class AustenTextModel(tf.keras.Model):\n",
    "\n",
    "  # This is our class constructor method, it will be executed when\n",
    "  # we first create an instance of the class\n",
    "  def __init__(self, vocab_size, embedding_dim, rnn_units):\n",
    "    super().__init__(self)\n",
    "\n",
    "    # Our model will have three layers:\n",
    "\n",
    "    # 1. An embedding layer that handles the encoding of our vocabulary into\n",
    "    #    a vector of values suitable for a neural network\n",
    "    self.embedding = tf.keras.layers.Embedding(vocab_size, embedding_dim)\n",
    "\n",
    "    # 2. A GRU layer that handles the \"memory\" aspects of our RNN. If you're\n",
    "    #    wondering why we use GRU instead of LSTM, and whether LSTM is better,\n",
    "    #    take a look at this article: https://datascience.stackexchange.com/questions/14581/when-to-use-gru-over-lstm\n",
    "    #    then consider trying out LSTM instead (or in addition to!)\n",
    "    self.lstm_1 = tf.keras.layers.LSTM(rnn_units, return_sequences=True, return_state=True)\n",
    "\n",
    "    # 3. Our output layer that will give us a set of probabilities for each\n",
    "    #    character in our vocabulary.\n",
    "    self.dense = tf.keras.layers.Dense(vocab_size)\n",
    "\n",
    "  # This function will be executed for each epoch of our training. Here\n",
    "  # we will manually feed information from one layer of our network to the\n",
    "  # next.\n",
    "  def call(self, inputs, states=None, return_state=False, training=False):\n",
    "    x = inputs\n",
    "\n",
    "    # 1. Feed the inputs into the embedding layer, and tell it if we are\n",
    "    #    training or predicting\n",
    "    x = self.embedding(x, training=training)\n",
    "\n",
    "    # 2. If we don't have any state in memory yet, get the initial random state\n",
    "    #    from our GRUI layer.\n",
    "    if states is None:\n",
    "      states = self.lstm_1.get_initial_state(x)\n",
    "\n",
    "    # 3. Now, feed the vectorized input along with the current state of memory\n",
    "    #    into the gru layer.\n",
    "    ##get returns from first lstm layer (I'm guessing that returned states are state_h then state_c)\n",
    "    x, state_h, state_c = self.lstm_1(x, initial_state=states, training=training)\n",
    "\n",
    "    ##package states into single states var\n",
    "    states = [state_h, state_c]\n",
    "\n",
    "    # 4. Finally, pass the results on to the dense layer\n",
    "    x = self.dense(x, training=training)\n",
    "\n",
    "    # 5. Return the results\n",
    "    if return_state:\n",
    "      return x, states\n",
    "    else:\n",
    "      return x"
   ]
  },
  {
   "cell_type": "code",
   "execution_count": 16,
   "metadata": {
    "id": "UA2C6pxZc4De"
   },
   "outputs": [],
   "source": [
    "# Create an instance of our model\n",
    "vocab_size=len(ids_from_chars.get_vocabulary())\n",
    "embedding_dim = 256\n",
    "rnn_units = 1024\n",
    "\n",
    "model = AustenTextModel(vocab_size, embedding_dim, rnn_units)"
   ]
  },
  {
   "cell_type": "code",
   "execution_count": 17,
   "metadata": {
    "colab": {
     "base_uri": "https://localhost:8080/"
    },
    "id": "C67kN7YAdfSf",
    "outputId": "56d78078-6afa-414a-fdcf-d8aef339406e"
   },
   "outputs": [
    {
     "name": "stdout",
     "output_type": "stream",
     "text": [
      "(64, 100, 87) # (batch_size, sequence_length, vocab_size)\n"
     ]
    }
   ],
   "source": [
    "# Verify the output of our model is correct by running one sample through\n",
    "# This will also compile the model for us. This step will take a bit.\n",
    "for input_example_batch, target_example_batch in dataset.take(1):\n",
    "    example_batch_predictions = model(input_example_batch)\n",
    "    print(example_batch_predictions.shape, \"# (batch_size, sequence_length, vocab_size)\")\n"
   ]
  },
  {
   "cell_type": "code",
   "execution_count": 18,
   "metadata": {
    "colab": {
     "base_uri": "https://localhost:8080/"
    },
    "id": "qJGL8gCWdsiu",
    "outputId": "674a7ed7-30e3-449e-964e-2363f2922217"
   },
   "outputs": [
    {
     "name": "stdout",
     "output_type": "stream",
     "text": [
      "Model: \"austen_text_model\"\n",
      "_________________________________________________________________\n",
      " Layer (type)                Output Shape              Param #   \n",
      "=================================================================\n",
      " embedding (Embedding)       multiple                  22272     \n",
      "                                                                 \n",
      " lstm (LSTM)                 multiple                  5246976   \n",
      "                                                                 \n",
      " dense (Dense)               multiple                  89175     \n",
      "                                                                 \n",
      "=================================================================\n",
      "Total params: 5358423 (20.44 MB)\n",
      "Trainable params: 5358423 (20.44 MB)\n",
      "Non-trainable params: 0 (0.00 Byte)\n",
      "_________________________________________________________________\n"
     ]
    }
   ],
   "source": [
    "# Now let's view the model summary\n",
    "model.summary()"
   ]
  },
  {
   "cell_type": "markdown",
   "metadata": {
    "id": "wTDe5m4baEqo"
   },
   "source": [
    "## IV. Train the model\n",
    "\n",
    "For our purposes, we'll be using [categorical cross entropy](https://machinelearningmastery.com/cross-entropy-for-machine-learning/) as our loss function*. Also, our model will be outputting [\"logits\" rather than normalized probabilities](https://stackoverflow.com/questions/41455101/what-is-the-meaning-of-the-word-logits-in-tensorflow), because we'll be doing further transformations on the output later.\n",
    "\n",
    "\n",
    "\\* Note that since our model deals with integer encoding rather than one-hot encoding, we'll specifically be using [sparse categorical cross entropy](https://stats.stackexchange.com/questions/326065/cross-entropy-vs-sparse-cross-entropy-when-to-use-one-over-the-other)."
   ]
  },
  {
   "cell_type": "code",
   "execution_count": 39,
   "metadata": {
    "colab": {
     "base_uri": "https://localhost:8080/"
    },
    "id": "7vOxc7CkaGQB",
    "outputId": "cd8c32bb-4ce9-48e9-e787-25891ce06d7b"
   },
   "outputs": [
    {
     "name": "stdout",
     "output_type": "stream",
     "text": [
      "Epoch 1/10\n",
      "759/759 [==============================] - 2710s 4s/step - loss: 0.6851\n",
      "Epoch 2/10\n",
      "759/759 [==============================] - 3240s 4s/step - loss: 0.6753\n",
      "Epoch 3/10\n",
      "759/759 [==============================] - 3228s 4s/step - loss: 0.6698\n",
      "Epoch 4/10\n",
      "759/759 [==============================] - 3232s 4s/step - loss: 0.6643\n",
      "Epoch 5/10\n",
      "759/759 [==============================] - 3240s 4s/step - loss: 0.6590\n",
      "Epoch 6/10\n",
      "759/759 [==============================] - 2653s 3s/step - loss: 0.6537\n",
      "Epoch 7/10\n",
      "759/759 [==============================] - 2338s 3s/step - loss: 0.6491\n",
      "Epoch 8/10\n",
      "759/759 [==============================] - 2326s 3s/step - loss: 0.6456\n",
      "Epoch 9/10\n",
      "759/759 [==============================] - 2324s 3s/step - loss: 0.6421\n",
      "Epoch 10/10\n",
      "759/759 [==============================] - 2325s 3s/step - loss: 0.6377\n"
     ]
    }
   ],
   "source": [
    "loss = tf.losses.SparseCategoricalCrossentropy(from_logits=True)\n",
    "model.compile(optimizer='adam', loss=loss)\n",
    "\n",
    "history = model.fit(dataset, epochs=10)"
   ]
  },
  {
   "cell_type": "code",
   "execution_count": 40,
   "metadata": {},
   "outputs": [
    {
     "data": {
      "text/plain": [
       "<matplotlib.legend.Legend at 0x1fe3a0a1110>"
      ]
     },
     "execution_count": 40,
     "metadata": {},
     "output_type": "execute_result"
    },
    {
     "data": {
      "image/png": "[encoded data removed]",
      "text/plain": [
       "<Figure size 640x480 with 1 Axes>"
      ]
     },
     "metadata": {},
     "output_type": "display_data"
    }
   ],
   "source": [
    "\n",
    "plt.plot(history.history['loss'], label='loss')\n",
    "plt.xlabel('Epoch')\n",
    "plt.ylabel('Loss')\n",
    "#plt.ylim([0.5, 1])\n",
    "plt.legend(bbox_to_anchor=(1, 1),loc='upper left', borderaxespad=0)"
   ]
  },
  {
   "cell_type": "markdown",
   "metadata": {
    "id": "casEwxrXcv4Y"
   },
   "source": [
    "## V. Use the model\n",
    "\n",
    "Now that our model has been trained, we can use it to generate text. As mentioned earlier, to do so we have to keep track of its internal state, or memory, so that we can use previous text predictions to inform later ones.\n",
    "\n",
    "However, with RNN generated text, if we always just pick the character with the highest probability, our model tends to get stuck in a loop. So instead we will create a probability distribution of characters for each step, and then sample from that distribution. We can add some variation to this using a paramter known as [\"temperature\"](https://cs.stackexchange.com/questions/79241/what-is-temperature-in-lstm-and-neural-networks-generally)."
   ]
  },
  {
   "cell_type": "code",
   "execution_count": 41,
   "metadata": {
    "id": "V3lhlyfwcqIN"
   },
   "outputs": [],
   "source": [
    "# Here's the code we'll use to sample for us. It has some extra steps to apply\n",
    "# the temperature to the distribution, and to make sure we don't get empty\n",
    "# characters in our text. Most importantly, it will keep track of our model\n",
    "# state for us.\n",
    "\n",
    "class OneStep(tf.keras.Model):\n",
    "  def __init__(self, model, chars_from_ids, ids_from_chars, temperature=1.0):\n",
    "    super().__init__()\n",
    "    self.temperature=temperature\n",
    "    self.model = model\n",
    "    self.chars_from_ids = chars_from_ids\n",
    "    self.ids_from_chars = ids_from_chars\n",
    "\n",
    "    # Create a mask to prevent \"\" or \"[UNK]\" from being generated.\n",
    "    skip_ids = self.ids_from_chars(['','[UNK]'])[:, None]\n",
    "    sparse_mask = tf.SparseTensor(\n",
    "        # Put a -inf at each bad index.\n",
    "        values=[-float('inf')]*len(skip_ids),\n",
    "        indices = skip_ids,\n",
    "        # Match the shape to the vocabulary\n",
    "        dense_shape=[len(ids_from_chars.get_vocabulary())])\n",
    "    self.prediction_mask = tf.sparse.to_dense(sparse_mask,validate_indices=False)\n",
    "\n",
    "  @tf.function\n",
    "  def generate_one_step(self, inputs, states=None):\n",
    "    # Convert strings to token IDs.\n",
    "    input_chars = tf.strings.unicode_split(inputs, 'UTF-8')\n",
    "    input_ids = self.ids_from_chars(input_chars).to_tensor()\n",
    "\n",
    "    # Run the model.\n",
    "    # predicted_logits.shape is [batch, char, next_char_logits]\n",
    "    predicted_logits, states = self.model(inputs=input_ids, states=states,\n",
    "                                          return_state=True)\n",
    "    # Only use the last prediction.\n",
    "    predicted_logits = predicted_logits[:, -1, :]\n",
    "    predicted_logits = predicted_logits/self.temperature\n",
    "\n",
    "    # Apply the prediction mask: prevent \"\" or \"[UNK]\" from being generated.\n",
    "    predicted_logits = predicted_logits + self.prediction_mask\n",
    "\n",
    "    # Sample the output logits to generate token IDs.\n",
    "    predicted_ids = tf.random.categorical(predicted_logits, num_samples=1)\n",
    "    predicted_ids = tf.squeeze(predicted_ids, axis=-1)\n",
    "\n",
    "    # Return the characters and model state.\n",
    "    return chars_from_ids(predicted_ids), states\n"
   ]
  },
  {
   "cell_type": "code",
   "execution_count": 42,
   "metadata": {
    "id": "fSUghgUFc6ba"
   },
   "outputs": [
    {
     "name": "stdout",
     "output_type": "stream",
     "text": [
      "Chapter 13\n",
      "\n",
      "\n",
      "Marianne's intention of the delightful picture remained; neither could\n",
      "you know without fortune, and very civil serious amazement;--as far as\n",
      "all this was, that Edward had been very far from its effects, it would\n",
      "be by nettige when a large house of mind fully shut off in the same to\n",
      "Mansfield.\n",
      "\n",
      "“Oh yes! me if you cannot deny us just now; for Mr. Rushworth is so easily\n",
      "recovered, has nothing to keep my agitated man-lets than affact.\n",
      "\n",
      "She first returned, though steadily tendered in these people, whatever\n",
      "lived, of course only to consider him still more, but her answer was\n",
      "instantly yet anxious to oblige herself, and as few perecting which\n",
      "sprung from her aunt Bertram and Marianne, she thought she had got a little\n",
      "in love of for ten days, that Marger had made Henry’s instructions, he\n",
      "had a hackney to in to say she had been stronger understood.--He\n",
      "confessed that she had felt almost as might ten that house when passed\n",
      "at last, however disappointment was almost always injuring him; but\n",
      "\n"
     ]
    }
   ],
   "source": [
    "# Create an instance of the character generator\n",
    "one_step_model = OneStep(model, chars_from_ids, ids_from_chars)\n",
    "\n",
    "# Now, let's generate a 1000 character chapter by giving our model \"Chapter 1\"\n",
    "# as its starting text\n",
    "states = None\n",
    "next_char = tf.constant(['Chapter 1'])\n",
    "result = [next_char]\n",
    "\n",
    "for n in range(1000):\n",
    "  next_char, states = one_step_model.generate_one_step(next_char, states=states)\n",
    "  result.append(next_char)\n",
    "\n",
    "result = tf.strings.join(result)\n",
    "\n",
    "# Print the results formatted.\n",
    "print(result[0].numpy().decode('utf-8'))\n",
    "\n",
    "\n"
   ]
  },
  {
   "cell_type": "code",
   "execution_count": 43,
   "metadata": {
    "scrolled": true
   },
   "outputs": [
    {
     "name": "stdout",
     "output_type": "stream",
     "text": [
      "INFO:tensorflow:Assets written to: 20_epoch_base_model_lstm-1-c\\assets\n"
     ]
    },
    {
     "name": "stderr",
     "output_type": "stream",
     "text": [
      "INFO:tensorflow:Assets written to: 20_epoch_base_model_lstm-1-c\\assets\n"
     ]
    }
   ],
   "source": [
    "model.save('20_epoch_base_model_lstm-1-c')"
   ]
  },
  {
   "cell_type": "markdown",
   "metadata": {
    "id": "b2Cudf3YoaKr"
   },
   "source": [
    "## VI. Next Steps\n",
    "\n",
    "This is a very simple model with one GRU layer and then an output layer. However, considering how simple it is and the fact that we are predicting outputs character by character, the text it produces is pretty amazing. Though it still has a long way to go before publication.\n",
    "\n",
    "There are many other RNN architectures you could try, such as adding additional hidden dense layers, replacing GRU with one or more LSTM layers, combining GRU and LSTM, etc...\n",
    "\n",
    "You could also experiment with better text cleanup to make sure odd punctuation doesn't appear, or finding longer texts to use. If you combine texts from two authors, what happens? Can you generate a Jane Austen stageplay by combining austen and shakespeare texts?\n",
    "\n",
    "Finally, there are a number of hyperparameters to tweak, such as temperature, epochs, batch size, sequence length, etc..."
   ]
  },
  {
   "cell_type": "code",
   "execution_count": null,
   "metadata": {},
   "outputs": [],
   "source": []
  }
 ],
 "metadata": {
  "accelerator": "GPU",
  "colab": {
   "name": "book_publishing_starter.ipynb",
   "provenance": []
  },
  "kernelspec": {
   "display_name": "Python 3 (ipykernel)",
   "language": "python",
   "name": "python3"
  },
  "language_info": {
   "codemirror_mode": {
    "name": "ipython",
    "version": 3
   },
   "file_extension": ".py",
   "mimetype": "text/x-python",
   "name": "python",
   "nbconvert_exporter": "python",
   "pygments_lexer": "ipython3",
   "version": "3.11.8"
  }
 },
 "nbformat": 4,
 "nbformat_minor": 4
}
