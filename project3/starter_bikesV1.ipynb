{
  "nbformat": 4,
  "nbformat_minor": 0,
  "metadata": {
    "colab": {
      "name": "starter_bikes.ipynb",
      "provenance": [],
      "toc_visible": true,
      "include_colab_link": true
    },
    "kernelspec": {
      "name": "python3",
      "display_name": "Python 3"
    }
  },
  "cells": [
    {
      "cell_type": "markdown",
      "metadata": {
        "id": "view-in-github",
        "colab_type": "text"
      },
      "source": [
        "<a href=\"https://colab.research.google.com/github/josegabrielguerrero26/CSE450-machinelearning/blob/main/project3/starter_bikesV1.ipynb\" target=\"_parent\"><img src=\"https://colab.research.google.com/assets/colab-badge.svg\" alt=\"Open In Colab\"/></a>"
      ]
    },
    {
      "cell_type": "markdown",
      "source": [
        "# Case Study"
      ],
      "metadata": {
        "id": "8qFx9vLVog7b"
      }
    },
    {
      "cell_type": "markdown",
      "source": [
        "https://byui-cse.github.io/cse450-course/module-04/intro.html"
      ],
      "metadata": {
        "id": "arKwKyUwospr"
      }
    },
    {
      "cell_type": "markdown",
      "source": [
        "**Introduction**\n",
        "\n",
        "WelcomeBike Bike Rentals is a Beijing-based bike rental company that has recently expanded to include a handful of US locations. You've been asked to build a neural network that will predict the number of bike rentals for a given day and hour for their Washington DC branch.\n",
        "\n",
        "\n",
        "**Stakeholders**\n",
        "\n",
        "These are the individuals your team will be helping during the case study:\n",
        "\n",
        "\n",
        "*ZHAO, CEO OF WELCOMEBIKE*\n",
        "Our new DC branch is taking off again after COVID-19. I'm excited to see how machine learning can help us to avoid the mistakes of our competitors and prove to our investors that we have a winning business model.\n",
        "\n",
        "\n",
        "*WILLIAM, INVESTMENT BANKER*\n",
        "Oh...it's you again.\n",
        "\n",
        "Nearly every Chinese bike rental business anyone has invested in has gone bankrupt.\n",
        "\n",
        "Mr. Zhao seems to think that AI can make all the difference, and our bank's investment board is curious to find out if he's right.\n",
        "\n",
        "I'm here by their request to witness his failure—I mean, to see how it goes.\n",
        "\n",
        "\n",
        "*JOHNNY, DATA SCIENCE INTERN*\n",
        "Hey, small world!\n",
        "\n",
        "I'm visiting my grandma Peggy in Langley, Virginia and thought I'd stop by the capital and see how you're doing.\n",
        "\n",
        "**STAKEHOLDER FOCUS AREAS**\n",
        "\n",
        "The stakeholders are particularly interested in the following areas:\n",
        "\n",
        "Building a neural network that can predict the number of bicycle rentals for a given day.\n",
        "Understanding how weather, holidays, and other factors affect revenue."
      ],
      "metadata": {
        "id": "eTcm_2cAo4-V"
      }
    },
    {
      "cell_type": "markdown",
      "source": [],
      "metadata": {
        "id": "ukGsnytso8np"
      }
    },
    {
      "cell_type": "markdown",
      "source": [
        "# Data Information"
      ],
      "metadata": {
        "id": "Wl6fP23Pp8jS"
      }
    },
    {
      "cell_type": "markdown",
      "source": [
        "- Data:\n",
        "https://raw.githubusercontent.com/byui-cse/cse450-course/master/data/bikes.csv\n",
        "- Dictionary:https://byui-cse.github.io/cse450-course/module-04/bikes-dictionary.txt"
      ],
      "metadata": {
        "id": "AgIlVaKxqAi5"
      }
    },
    {
      "cell_type": "markdown",
      "source": [
        "# Questions"
      ],
      "metadata": {
        "id": "XLUCZAi4o00l"
      }
    },
    {
      "cell_type": "markdown",
      "source": [],
      "metadata": {
        "id": "E37AVjsroyk6"
      }
    },
    {
      "cell_type": "code",
      "metadata": {
        "id": "mA0HPVmIBT4C"
      },
      "source": [
        "import pandas as pd\n",
        "import tensorflow as tf\n",
        "from tensorflow import keras\n",
        "from tensorflow.keras import layers\n",
        "\n",
        "bikes = pd.read_csv('https://raw.githubusercontent.com/byui-cse/cse450-course/master/data/bikes.csv')"
      ],
      "execution_count": null,
      "outputs": []
    },
    {
      "cell_type": "code",
      "metadata": {
        "id": "StiU5QcPPxqQ"
      },
      "source": [],
      "execution_count": null,
      "outputs": []
    },
    {
      "cell_type": "code",
      "metadata": {
        "id": "ALLMN63FPyEQ"
      },
      "source": [],
      "execution_count": null,
      "outputs": []
    },
    {
      "cell_type": "code",
      "metadata": {
        "id": "RnGBwGVZPyyh"
      },
      "source": [],
      "execution_count": null,
      "outputs": []
    },
    {
      "cell_type": "code",
      "metadata": {
        "id": "CVSfaqgKPzE2"
      },
      "source": [],
      "execution_count": null,
      "outputs": []
    }
  ]
}